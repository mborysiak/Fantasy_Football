{
 "cells": [
  {
   "cell_type": "code",
   "execution_count": 3,
   "metadata": {},
   "outputs": [],
   "source": [
    "import pandas as pd\n",
    "import os\n",
    "import sqlite3\n",
    "from data_functions import *"
   ]
  },
  {
   "cell_type": "code",
   "execution_count": null,
   "metadata": {},
   "outputs": [],
   "source": [
    "pff_path = '/Users/Mark/Documents/GitHub/Fantasy_Football/Data/PFF_2018/'\n",
    "\n",
    "folder = ['receiving_summary', 'wr_deep', 'wr_slot_performance', 'wr_yprr']\n",
    "\n",
    "data = pd.DataFrame()\n",
    "for fold in folder:\n",
    "    files = [f for f in os.listdir(pff_path + fold) if f != '.DS_Store']\n",
    "    filename = files[0].split('-')[0]\n",
    "\n",
    "    d_fold = pd.DataFrame()\n",
    "    for i in range(1, len(files)+1):\n",
    "        d = pd.read_csv(pff_path + fold + '/' + filename + '-{}.csv'.format(i))\n",
    "        d['year'] = 2018 - i\n",
    "        d_fold = pd.concat([d_fold, d], axis=0)\n",
    "    \n",
    "    if fold == folder[0]:\n",
    "        data = d_fold\n",
    "    else:\n",
    "        data = pd.merge(data, d_fold, how='inner', left_on=['player', 'year'], right_on=['player', 'year'])\n",
    "        data = data.drop([c for c in data.columns if c.endswith('_y')], axis=1)\n",
    "        \n",
    "data.columns = [c.strip('_x') for c in data.columns]\n",
    "data = data.reset_index(drop=True)"
   ]
  },
  {
   "cell_type": "code",
   "execution_count": null,
   "metadata": {},
   "outputs": [],
   "source": [
    "rec_keep = ['player', 'year', 'grades_offense', 'grades_pass_route', 'grades_hands_drop', \n",
    "            'grades_hands_fumble', 'yards_after_catch_per_reception', 'first_downs', \n",
    "            'interceptions', 'avoided_tackles', 'targeted_qb_rating','penalties', 'target_rate', \n",
    "            'catch_rate', 'drop_rate', 'deep_targets', 'deep_receptions', 'deep_drops', 'deep_yards',\n",
    "            'deep_catchable', 'deep_touchdowns', 'route_snaps', 'slot_snaps', 'slot_targets', \n",
    "            'slot_target_percent', 'slot_receptions', 'slot_drops', 'slot_yards', 'slot_yprr', \n",
    "            'slot_touchdowns', 'slot_drop_rate', 'slot_catch_rate', 'yprr']\n",
    "data = data[rec_keep]"
   ]
  },
  {
   "cell_type": "code",
   "execution_count": null,
   "metadata": {},
   "outputs": [],
   "source": [
    "append_to_db(data, db_name='Season_Stats.sqlite3', table_name='PFF_Receiving', if_exist='replace')"
   ]
  },
  {
   "cell_type": "markdown",
   "metadata": {},
   "source": [
    "# Fantasy Pros Data"
   ]
  },
  {
   "cell_type": "code",
   "execution_count": 33,
   "metadata": {},
   "outputs": [],
   "source": [
    "cols = ['player', 'year', 'Rank', 'ADP', 'Best', 'Worst', 'Avg', 'Std Dev']"
   ]
  },
  {
   "cell_type": "code",
   "execution_count": 35,
   "metadata": {},
   "outputs": [],
   "source": [
    "d2019 = pd.read_csv('/Users/Mark/Documents/GitHub/Fantasy_Football/Data/FantasyPros/FantasyPros2019.csv', header=None)\n",
    "d2019 = d2019.iloc[1:, 3:]\n",
    "d2019.columns = ['player', 'team', 'Position', 'Bye', 'Best', 'Worst', 'Avg', 'Std Dev', 'ADP', 'ADPvsRank']\n",
    "d2019['Rank'] = range(1, d2019.shape[0]+1)\n",
    "d2019['year'] = 2019\n",
    "d2019 = d2019[cols]"
   ]
  },
  {
   "cell_type": "code",
   "execution_count": 36,
   "metadata": {},
   "outputs": [],
   "source": [
    "d2018 = pd.read_csv('/Users/Mark/Documents/GitHub/Fantasy_Football/Data/FantasyPros/FantasyPros2018.csv', header=None)\n",
    "d2018 = d2018.dropna()\n",
    "d2018.columns = ['Player_Team', 'Position', 'Bye', 'Best', 'Worst', 'Avg', 'Std Dev', 'ADP', 'ADPvsRank']\n",
    "d2018['player'] = d2018.Player_Team.apply(lambda x: x.split(' ')[0] + ' ' + x.split(' ')[1])\n",
    "d2018['Rank'] = range(1, d2018.shape[0]+1)\n",
    "d2018['year'] = 2018\n",
    "d2018 = d2018[cols]"
   ]
  },
  {
   "cell_type": "code",
   "execution_count": 37,
   "metadata": {},
   "outputs": [],
   "source": [
    "d2018 = pd.read_csv('/Users/Mark/Documents/GitHub/Fantasy_Football/Data/FantasyPros/FantasyPros2018.csv', header=None)\n",
    "d2018 = d2018.dropna()\n",
    "d2018.columns = ['Player_Team', 'Position', 'Bye', 'Best', 'Worst', 'Avg', 'Std Dev', 'ADP', 'ADPvsRank']\n",
    "d2018['player'] = d2018.Player_Team.apply(lambda x: x.split(' ')[0] + ' ' + x.split(' ')[1])\n",
    "d2018['Rank'] = range(1, d2018.shape[0]+1)\n",
    "d2018['year'] = 2018\n",
    "d2018 = d2018[cols]"
   ]
  },
  {
   "cell_type": "code",
   "execution_count": 38,
   "metadata": {},
   "outputs": [],
   "source": [
    "y2017 = pd.read_html('https://web.archive.org/web/20170709051007/https://www.fantasypros.com/nfl/rankings/ppr-cheatsheets.php')\n",
    "d2017 = y2017[2]\n",
    "d2017 = d2017.iloc[1:, :9]\n",
    "d2017 = d2017.dropna()\n",
    "d2017.columns = ['Rank', 'Player_Team', 'Position', 'Bye', 'Best', 'Worst', 'Avg', 'Std Dev', 'ADP']\n",
    "d2017['player'] = d2017.Player_Team.apply(lambda x: x.split(' ')[0] + ' ' + x.split(' ')[1])\n",
    "d2017['year'] = 2017\n",
    "d2017 = d2017[cols]"
   ]
  },
  {
   "cell_type": "code",
   "execution_count": 39,
   "metadata": {},
   "outputs": [],
   "source": [
    "y2016 = pd.read_html('https://web.archive.org/web/20160708123616/https://www.fantasypros.com/nfl/rankings/half-point-ppr-cheatsheets.php')\n",
    "y2016[3]\n",
    "d2016 = y2016[3]\n",
    "d2016.columns = ['Rank', 'Player_Team', 'Position', 'Bye', 'Best', 'Worst', 'Avg', 'Std Dev', 'ADP', 'RankvADP']\n",
    "d2016['player'] = d2016.Player_Team.apply(lambda x: x.split(' ')[0] + ' ' + x.split(' ')[1])\n",
    "d2016['year'] = 2016\n",
    "d2016 = d2016[cols]"
   ]
  },
  {
   "cell_type": "code",
   "execution_count": 40,
   "metadata": {},
   "outputs": [],
   "source": [
    "y2015 = pd.read_html('https://web.archive.org/web/20150804045948/http://www.fantasypros.com/nfl/rankings/half-point-ppr-cheatsheets.php')\n",
    "d2015 = y2015[3]\n",
    "d2015.columns = ['Rank', 'Player_Team', 'Position', 'Best', 'Worst', 'Avg', 'Std Dev', 'ADP', 'RankvADP']\n",
    "d2015['player'] = d2015.Player_Team.apply(lambda x: x.split(' ')[0] + ' ' + x.split(' ')[1])\n",
    "d2015['year'] = 2015\n",
    "d2015 = d2015[cols]"
   ]
  },
  {
   "cell_type": "code",
   "execution_count": 41,
   "metadata": {},
   "outputs": [],
   "source": [
    "y2014 = pd.read_html('https://web.archive.org/web/20140804134756/http://www.fantasypros.com/nfl/rankings/half-point-ppr-cheatsheets.php')\n",
    "d2014 = y2014[3]\n",
    "d2014.columns = ['Rank', 'Player_Team', 'Position', 'Best', 'Worst', 'Avg', 'Std Dev', 'ADP', 'RankvADP']\n",
    "d2014['player'] = d2014.Player_Team.apply(lambda x: x.split(' ')[0] + ' ' + x.split(' ')[1])\n",
    "d2014['year'] = 2014\n",
    "d2014 = d2014[cols]"
   ]
  },
  {
   "cell_type": "code",
   "execution_count": 42,
   "metadata": {},
   "outputs": [],
   "source": [
    "y2013 = pd.read_html('https://web.archive.org/web/20130807045840/https://www.fantasypros.com/nfl/rankings/consensus-cheatsheets.php')\n",
    "d2013 = y2013[3]\n",
    "d2013.columns = ['Rank', 'Player_Team', 'Position', 'Best', 'Worst', 'Avg', 'Std Dev', 'ADP', 'RankvADP']\n",
    "d2013['player'] = d2013.Player_Team.apply(lambda x: x.split(' ')[0] + ' ' + x.split(' ')[1])\n",
    "d2013['year'] = 2013\n",
    "d2013 = d2013[cols]"
   ]
  },
  {
   "cell_type": "code",
   "execution_count": 103,
   "metadata": {},
   "outputs": [],
   "source": [
    "y2012 = pd.read_html('https://web.archive.org/web/20120804231119/http://www.fantasypros.com/nfl/rankings/ppr-cheatsheets.php')\n",
    "d2012 = y2012[3]\n",
    "d2012.columns = ['Rank', 'Player_Team', 'Best', 'Worst', 'Avg', 'Std Dev', 'ADP', 'RankvADP']\n",
    "d2012['player'] = d2012.Player_Team.apply(lambda x: x.split(' ')[0] + ' ' + x.split(' ')[1])\n",
    "d2012['year'] = 2012\n",
    "d2012 = d2012[cols]"
   ]
  },
  {
   "cell_type": "code",
   "execution_count": 115,
   "metadata": {},
   "outputs": [],
   "source": [
    "fp_data = pd.concat([d2019, d2018, d2017, d2016, d2015, d2014, d2013, d2012], axis=0).reset_index(drop=True)"
   ]
  },
  {
   "cell_type": "code",
   "execution_count": 116,
   "metadata": {},
   "outputs": [],
   "source": [
    "fp_data = fp_data.rename(columns={'Rank': 'rank', 'ADP': 'adp', 'Best':'best', 'Worst':'worst', 'Avg':'avg', 'Std Dev': 'std_dev'})"
   ]
  },
  {
   "cell_type": "code",
   "execution_count": 117,
   "metadata": {},
   "outputs": [],
   "source": [
    "fp_data.adp = fp_data.adp.apply(lambda x: str(x).replace(',', ''))\n",
    "fp_data = fp_data.dropna()"
   ]
  },
  {
   "cell_type": "code",
   "execution_count": 118,
   "metadata": {},
   "outputs": [],
   "source": [
    "fp_data = fp_data[fp_data['rank'] != \"googletag.cmd.push(function() { googletag.display('div-gpt-ad-1404326895972-0'); });\"].reset_index(drop=True)\n",
    "fp_data.year = fp_data.year.astype('int')\n",
    "fp_data['rank'] = fp_data['rank'].astype('int')\n",
    "fp_data.adp = fp_data.adp.astype('float')\n",
    "fp_data.best = fp_data.best.astype('int')\n",
    "fp_data.worst = fp_data.worst.astype('int')\n",
    "fp_data.avg = fp_data.avg.astype('float')\n",
    "fp_data.std_dev = fp_data.std_dev.astype('float')"
   ]
  },
  {
   "cell_type": "code",
   "execution_count": 119,
   "metadata": {},
   "outputs": [],
   "source": [
    "append_to_db(fp_data, db_name='Season_Stats.sqlite3', table_name='FantasyPros', if_exist='replace')"
   ]
  },
  {
   "cell_type": "code",
   "execution_count": null,
   "metadata": {},
   "outputs": [],
   "source": []
  }
 ],
 "metadata": {
  "jupytext": {
   "formats": "ipynb,py:light"
  },
  "kernelspec": {
   "display_name": "Python 3",
   "language": "python",
   "name": "python3"
  },
  "language_info": {
   "codemirror_mode": {
    "name": "ipython",
    "version": 3
   },
   "file_extension": ".py",
   "mimetype": "text/x-python",
   "name": "python",
   "nbconvert_exporter": "python",
   "pygments_lexer": "ipython3",
   "version": "3.7.7"
  }
 },
 "nbformat": 4,
 "nbformat_minor": 4
}
