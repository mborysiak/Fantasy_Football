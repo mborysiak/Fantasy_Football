{
 "cells": [
  {
   "cell_type": "code",
   "execution_count": null,
   "metadata": {},
   "outputs": [],
   "source": [
    "#==========\n",
    "# Dictionary for position relevant metrics\n",
    "#==========\n",
    "\n",
    "# initialize full position dictionary\n",
    "pos = {}\n",
    "\n",
    "#---------\n",
    "# RB dictionary\n",
    "#---------\n",
    " \n",
    "# initilize RB dictionary\n",
    "pos['RB'] = {}\n",
    "\n",
    "# total touch filter name\n",
    "pos['RB']['touch_filter'] = 'total_touches'\n",
    "\n",
    "# median feature categories\n",
    "pos['RB']['med_features'] = ['fp', 'tgt', 'receptions', 'total_touches', 'rush_yds', 'rec_yds', \n",
    "                   'rush_yd_per_game', 'rec_yd_per_game', 'rush_td', 'games_started', \n",
    "                   'qb_rating', 'qb_yds', 'pass_off', 'tm_rush_td', 'tm_rush_yds', \n",
    "                   'tm_rush_att', 'adjust_line_yds', 'ms_rush_yd', 'ms_rec_yd', 'ms_rush_td',\n",
    "                   'avg_pick', 'fp_per_touch', 'team_rush_avg_att']\n",
    "\n",
    "# sum feature categories\n",
    "pos['RB']['sum_features'] = ['total_touches', 'att', 'scrimmage_yds']\n",
    "\n",
    "# max feature categories\n",
    "pos['RB']['max_features'] = ['fp', 'rush_td', 'tgt', 'rush_yds', 'rec_yds', 'scrimmage_yds']\n",
    "\n",
    "# age feature categories\n",
    "pos['RB']['age_features'] = ['fp', 'rush_yd_per_game', 'rec_yd_per_game', 'total_touches', 'receptions', 'tgt',\n",
    "                             'ms_rush_yd', 'ms_rec_yd', 'available_rush_att', 'available_tgt', 'total_touches_sum',\n",
    "                             'scrimmage_yds_sum', 'avg_pick', 'fp_per_touch', 'ms_rush_yd_per_att', 'ms_tgts']\n",
    "\n",
    "\n"
   ]
  },
  {
   "cell_type": "markdown",
   "metadata": {},
   "source": [
    "# User Inputs"
   ]
  },
  {
   "cell_type": "code",
   "execution_count": null,
   "metadata": {},
   "outputs": [],
   "source": [
    "# set core path\n",
    "path = '/Users/Mark/Documents/Github/Fantasy_Football/'\n",
    "\n",
    "# set to position to analyze: 'RB', 'WR', 'QB', or 'TE'\n",
    "set_position = 'RB'\n",
    "\n",
    "# set year to analyze\n",
    "set_year = 2018\n",
    "\n",
    "# set required touches (or pass thrown) and games for consideration\n",
    "req_games = 8\n",
    "req_touch = 50\n",
    "\n",
    "# settings for fantasy points\n",
    "yard_pts = 0.1\n",
    "td_pts = 7\n",
    "rec_pt = .5\n",
    "fmb_pts = -2.0\n",
    "int_pts = -2\n",
    "sack_pts = -1"
   ]
  },
  {
   "cell_type": "markdown",
   "metadata": {},
   "source": [
    "# Load Libraries"
   ]
  },
  {
   "cell_type": "code",
   "execution_count": null,
   "metadata": {},
   "outputs": [],
   "source": [
    "# core packages\n",
    "import pandas as pd\n",
    "import numpy as np\n",
    "import os\n",
    "\n",
    "# jupyter specifications\n",
    "pd.options.mode.chained_assignment = None\n",
    "from IPython.core.interactiveshell import InteractiveShell\n",
    "InteractiveShell.ast_node_interactivity = \"all\"\n",
    "%matplotlib inline\n",
    "%config InlineBackend.figure_format = 'retina'\n",
    "\n",
    "# plotting functions\n",
    "import matplotlib.pyplot as plt\n",
    "import seaborn as sns"
   ]
  },
  {
   "cell_type": "code",
   "execution_count": null,
   "metadata": {},
   "outputs": [],
   "source": [
    "# change directory temporarily to helper scripts\n",
    "os.chdir(path + 'Scripts/Analysis/Helper_Scripts')\n",
    "\n",
    "# load custom plot functions\n",
    "from my_plot import PrettyPlot\n",
    "PrettyPlot(plt)\n",
    "\n",
    "# load custom helper functions\n",
    "from helper_functions import *;"
   ]
  },
  {
   "cell_type": "markdown",
   "metadata": {},
   "source": [
    "# Merge and Clean Data Files"
   ]
  },
  {
   "cell_type": "code",
   "execution_count": null,
   "metadata": {},
   "outputs": [],
   "source": [
    "df = pd.read_csv(path + 'Data/' + str(set_year) + '/' + set_position + '_Input.csv').iloc[:, 1:]"
   ]
  },
  {
   "cell_type": "code",
   "execution_count": null,
   "metadata": {},
   "outputs": [],
   "source": [
    "old = df[(df[pos['RB']['touch_filter']] > req_touch) & (df.games > req_games) & (df.year < set_year-1)].reset_index(drop=True)\n",
    "this_year = df[df.year==set_year-1]\n",
    "\n",
    "df = pd.concat([old, this_year], axis=0)"
   ]
  },
  {
   "cell_type": "markdown",
   "metadata": {},
   "source": [
    "# Create FP and Target Columns"
   ]
  },
  {
   "cell_type": "code",
   "execution_count": null,
   "metadata": {},
   "outputs": [],
   "source": [
    "rb['fp'] = params[0]*rb['rush_yds'] + params[0]*rb['rec_yds'] + params[1]*rb['rush_td'] + \\\n",
    "           params[1]*rb['rec_td'] + params[2]*rb['receptions'] + params[3]*rb['fmb']\n",
    "rb['fp_per_game'] = rb['fp'] / rb['games']\n",
    "rb['qb_fp'] = .04*rb['qb_yds'] + 4*rb['qb_tds'] - 2*rb['int'] - 1*rb['qb_sacks']\n",
    "\n",
    "rb['fp_per_touch'] = rb['fp'] / rb['total_touches']\n",
    "rb['yd_per_tgt'] = rb['rec_yds'] / rb['tgt']"
   ]
  },
  {
   "cell_type": "code",
   "execution_count": null,
   "metadata": {},
   "outputs": [],
   "source": [
    "df_train, df_predict = features_target(rb, 2004, 2017, median_features, sum_features,\n",
    "                                       max_features, age_features, 'fp_per_game')"
   ]
  },
  {
   "cell_type": "code",
   "execution_count": null,
   "metadata": {},
   "outputs": [],
   "source": [
    "df_train = df_train.dropna(subset=['y_act']).reset_index(drop=True)"
   ]
  },
  {
   "cell_type": "code",
   "execution_count": null,
   "metadata": {},
   "outputs": [],
   "source": [
    "df_train = df_train.fillna(df_train.mean())\n",
    "#df_train = df_train.dropna()\n",
    "df_predict = df_predict.dropna().reset_index(drop=True)\n",
    "\n",
    "df_train.shape"
   ]
  },
  {
   "cell_type": "markdown",
   "metadata": {},
   "source": [
    "# Visualization of Feature Correlations"
   ]
  },
  {
   "cell_type": "markdown",
   "metadata": {},
   "source": [
    "# Running Models"
   ]
  },
  {
   "cell_type": "code",
   "execution_count": null,
   "metadata": {},
   "outputs": [],
   "source": [
    "corr_cutoff = 0.05\n",
    "corr = df_train.corr()['y_act']\n",
    "good_cols = list(corr[abs(corr) > corr_cutoff].index)\n",
    "\n",
    "good_cols.extend(['player', 'year'])\n",
    "df_train = df_train[good_cols]\n",
    "\n",
    "good_cols.remove('y_act')\n",
    "df_predict = df_predict[good_cols]"
   ]
  },
  {
   "cell_type": "code",
   "execution_count": null,
   "metadata": {},
   "outputs": [],
   "source": [
    "#=============\n",
    "# Create parameter dictionaries for each algorithm\n",
    "#=============\n",
    "\n",
    "lgbm_params = {\n",
    "    'n_estimators':[30, 40, 50, 60, 75],\n",
    "    'max_depth':[2, 3, 4, 5, 6, 7],\n",
    "    'freature_fraction':[0.5, 0.6, 0.7, 0.8, 0.9, 1],\n",
    "    'subsample': [0.5, 0.6, 0.7, 0.8, 0.9, 1],\n",
    "    'min_child_weight': [5, 10, 15, 20, 25],\n",
    "}\n",
    "\n",
    "xgb_params = {\n",
    "    'n_estimators': [30, 40, 50, 60, 75], \n",
    "    'max_depth': [2, 3, 4, 5, 6, 7], \n",
    "    'subsample': [0.5, 0.6, 0.7, 0.8, 0.9, 1],\n",
    "    'min_child_weight': [10, 15, 20, 25, 30],\n",
    "    'freature_fraction':[0.5, 0.6, 0.7, 0.8, 0.9, 1]\n",
    "}\n",
    "\n",
    "knn_params = {\n",
    "    'n_neighbors': [3, 4, 5, 6, 7],\n",
    "    'weights': ['uniform', 'distance'],\n",
    "    'algorithm': ['kd_tree', 'ball_tree']\n",
    "}\n",
    "\n",
    "lasso_params = {\n",
    "    'alpha': [0.1, 0.2, 0.3, 0.4, 0.5, 0.75, 1, 1.5]\n",
    "}"
   ]
  },
  {
   "cell_type": "code",
   "execution_count": null,
   "metadata": {},
   "outputs": [],
   "source": [
    "# generate a master dictionary of parameters (must match the)\n",
    "param_list = [lgbm_params, xgb_params, lasso_params]\n",
    "est_names = ['lgbm', 'xgb', 'lasso']\n",
    "\n",
    "params = {}\n",
    "for i, param in enumerate(param_list):\n",
    "    params[est_names[i]] = param\n",
    "    \n",
    "param_results, summary, df_train_results, errors = validation(est_names, params, df_train, iterations=200, scale=True, random_state=1234)"
   ]
  },
  {
   "cell_type": "code",
   "execution_count": null,
   "metadata": {},
   "outputs": [],
   "source": [
    "summary.head(10)"
   ]
  },
  {
   "cell_type": "code",
   "execution_count": null,
   "metadata": {},
   "outputs": [],
   "source": [
    "best_result = 8\n",
    "df_test_results, models = generate_predictions(best_result, param_results, summary, df_train, df_predict)"
   ]
  },
  {
   "cell_type": "code",
   "execution_count": null,
   "metadata": {},
   "outputs": [],
   "source": [
    "from sklearn.preprocessing import StandardScaler\n",
    "models[2].predict(StandardScaler().fit_transform(df_predict.select_dtypes(include=['float64', 'uint8', 'int64'])))"
   ]
  },
  {
   "cell_type": "code",
   "execution_count": null,
   "metadata": {},
   "outputs": [],
   "source": [
    "plot_results(models[0].feature_importances_, df_predict.select_dtypes(include=['float64', 'int64', 'uint8']).columns)"
   ]
  },
  {
   "cell_type": "markdown",
   "metadata": {},
   "source": [
    "# Clustering Players into Tiers"
   ]
  },
  {
   "cell_type": "code",
   "execution_count": null,
   "metadata": {},
   "outputs": [],
   "source": [
    "model_features = [models[0],models[1],models[2]]\n",
    "\n",
    "cluster = clustering(df_train_results, df_test_results, model_features, pred_weight=4)\n",
    "cluster.explore_k(k=15)"
   ]
  },
  {
   "cell_type": "code",
   "execution_count": null,
   "metadata": {},
   "outputs": [],
   "source": [
    "cluster.fit_and_predict(k=8)\n",
    "c_train, c_test = cluster.add_clusters()"
   ]
  },
  {
   "cell_type": "markdown",
   "metadata": {},
   "source": [
    "# Tier 1"
   ]
  },
  {
   "cell_type": "code",
   "execution_count": null,
   "metadata": {},
   "outputs": [],
   "source": [
    "cluster.show_results(j=3)"
   ]
  },
  {
   "cell_type": "markdown",
   "metadata": {},
   "source": [
    "## Tier 2"
   ]
  },
  {
   "cell_type": "code",
   "execution_count": null,
   "metadata": {},
   "outputs": [],
   "source": [
    "cluster.show_results(j=1)"
   ]
  },
  {
   "cell_type": "code",
   "execution_count": null,
   "metadata": {},
   "outputs": [],
   "source": [
    "rb_sampling = cluster.create_distributions(dataset='train', wt=2.5)"
   ]
  },
  {
   "cell_type": "code",
   "execution_count": null,
   "metadata": {},
   "outputs": [],
   "source": [
    "cluster_predictions = pd.merge(rb_sampling[['player', 'year', 'pred']], df_train[['player', 'year', 'y_act']], \n",
    "                               how='inner', left_on=['player', 'year'], right_on=['player', 'year'])"
   ]
  },
  {
   "cell_type": "code",
   "execution_count": null,
   "metadata": {},
   "outputs": [],
   "source": [
    "XX = cluster_predictions.pred\n",
    "yy = cluster_predictions.y_act\n",
    "\n",
    "pearsonr(XX, yy)\n",
    "\n",
    "from sklearn.linear_model import LinearRegression\n",
    "\n",
    "lr = LinearRegression()\n",
    "\n",
    "lr.fit(XX.values.reshape(-1,1), yy)\n",
    "lr.score(XX.values.reshape(-1,1), yy)"
   ]
  },
  {
   "cell_type": "markdown",
   "metadata": {},
   "source": [
    "# Example Distribution (Assuming 16 Games)"
   ]
  },
  {
   "cell_type": "code",
   "execution_count": null,
   "metadata": {},
   "outputs": [],
   "source": [
    "view_projections(rb_sampling, 'Dalvin Cook')"
   ]
  },
  {
   "cell_type": "code",
   "execution_count": null,
   "metadata": {},
   "outputs": [],
   "source": [
    "view_projections(rb_sampling, 'Alvin Kamara')"
   ]
  },
  {
   "cell_type": "code",
   "execution_count": null,
   "metadata": {},
   "outputs": [],
   "source": [
    "view_projections(rb_sampling, 'Joe Mixon')"
   ]
  },
  {
   "cell_type": "code",
   "execution_count": null,
   "metadata": {},
   "outputs": [],
   "source": [
    "view_projections(rb_sampling, \"Le'Veon Bell\")"
   ]
  },
  {
   "cell_type": "code",
   "execution_count": null,
   "metadata": {},
   "outputs": [],
   "source": [
    "view_projections(rb_sampling, \"Melvin Gordon\")"
   ]
  },
  {
   "cell_type": "code",
   "execution_count": null,
   "metadata": {},
   "outputs": [],
   "source": [
    "rb_sampling.to_csv('/Users/Mark/Desktop/Jupyter Projects/Fantasy Football/Projections/rb_sampling.csv')"
   ]
  },
  {
   "cell_type": "code",
   "execution_count": null,
   "metadata": {},
   "outputs": [],
   "source": []
  }
 ],
 "metadata": {
  "kernelspec": {
   "display_name": "Python 3",
   "language": "python",
   "name": "python3"
  },
  "language_info": {
   "codemirror_mode": {
    "name": "ipython",
    "version": 3
   },
   "file_extension": ".py",
   "mimetype": "text/x-python",
   "name": "python",
   "nbconvert_exporter": "python",
   "pygments_lexer": "ipython3",
   "version": "3.6.4"
  }
 },
 "nbformat": 4,
 "nbformat_minor": 2
}
