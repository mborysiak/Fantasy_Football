{
 "cells": [
  {
   "cell_type": "markdown",
   "metadata": {},
   "source": [
    "# User Inputs"
   ]
  },
  {
   "cell_type": "code",
   "execution_count": null,
   "metadata": {},
   "outputs": [],
   "source": [
    "# set core path\n",
    "path = '/Users/Mark/Documents/Github/Fantasy_Football/'\n",
    "\n",
    "# set to position to analyze: 'RB', 'WR', 'QB', or 'TE'\n",
    "set_position = 'RB'\n",
    "\n",
    "# set year to analyze\n",
    "set_year = 2018\n",
    "earliest_year = 2004\n",
    "\n",
    "# set required touches (or pass thrown) and games for consideration\n",
    "req_games = 8\n",
    "req_touch = 50\n",
    "\n",
    "# settings for fantasy points\n",
    "pts = {}\n",
    "pts['yd_pts'] = 0.1\n",
    "pts['pass_yd_pts'] = 0.04\n",
    "pts['td_pts'] = 7\n",
    "pts['pass_td_pts'] = 5\n",
    "pts['rec_pts'] = .5\n",
    "pts['fmb_pts'] = -2.0\n",
    "pts['int_pts'] = -2\n",
    "pts['sack_pts'] = -1"
   ]
  },
  {
   "cell_type": "markdown",
   "metadata": {},
   "source": [
    "# Load Libraries"
   ]
  },
  {
   "cell_type": "code",
   "execution_count": null,
   "metadata": {},
   "outputs": [],
   "source": [
    "# core packages\n",
    "import pandas as pd\n",
    "import numpy as np\n",
    "import os\n",
    "\n",
    "# jupyter specifications\n",
    "pd.options.mode.chained_assignment = None\n",
    "from IPython.core.interactiveshell import InteractiveShell\n",
    "InteractiveShell.ast_node_interactivity = \"all\"\n",
    "%matplotlib inline\n",
    "%config InlineBackend.figure_format = 'retina'\n",
    "\n",
    "# plotting functions\n",
    "import matplotlib.pyplot as plt\n",
    "import seaborn as sns"
   ]
  },
  {
   "cell_type": "code",
   "execution_count": null,
   "metadata": {},
   "outputs": [],
   "source": [
    "# change directory temporarily to helper scripts\n",
    "os.chdir(path + 'Scripts/Analysis/Helper_Scripts')\n",
    "\n",
    "# load custom plot functions\n",
    "from my_plot import PrettyPlot\n",
    "PrettyPlot(plt)\n",
    "\n",
    "# load custom helper functions\n",
    "from helper_functions import *;"
   ]
  },
  {
   "cell_type": "markdown",
   "metadata": {},
   "source": [
    "# Merge and Clean Data Files"
   ]
  },
  {
   "cell_type": "code",
   "execution_count": null,
   "metadata": {},
   "outputs": [],
   "source": [
    "df = pd.read_csv(path + 'Data/' + str(set_year) + '/' + set_position + '_Input.csv').iloc[:, 1:]\n",
    "\n",
    "df['td_per_game'] = (df.rush_td + df.rec_td) / df.games"
   ]
  },
  {
   "cell_type": "code",
   "execution_count": null,
   "metadata": {},
   "outputs": [],
   "source": [
    "# split old and new to filter past years based on touches.\n",
    "# leave all new players in to ensure everyone gets a prediction\n",
    "old = df[(df[pos['RB']['touch_filter']] > req_touch) & (df.games > req_games) & (df.year < set_year-1)].reset_index(drop=True)\n",
    "this_year = df[df.year==set_year-1]\n",
    "\n",
    "# merge old and new back together after filtering\n",
    "df = pd.concat([old, this_year], axis=0)\n",
    "\n",
    "# create dataframes to store results\n",
    "df_train_results = pd.DataFrame([old.player, old.year-earliest_year+1]).T\n",
    "df_test_results = pd.DataFrame([this_year.player]).T"
   ]
  },
  {
   "cell_type": "code",
   "execution_count": null,
   "metadata": {},
   "outputs": [],
   "source": [
    "df = calculate_fp(df, pts, pos='RB')"
   ]
  },
  {
   "cell_type": "code",
   "execution_count": null,
   "metadata": {
    "scrolled": false
   },
   "outputs": [],
   "source": [
    "#==========\n",
    "# Loop to create statistical predictions\n",
    "#==========\n",
    "\n",
    "metrics = ['td_per_game', 'rush_yd_per_game', 'rec_per_game', 'rec_yd_per_game']\n",
    "for i in metrics:\n",
    "\n",
    "    #--------\n",
    "    # Create train and predict dataframes\n",
    "    #--------\n",
    "    df_train, df_predict = features_target(df, \n",
    "                                           earliest_year, set_year-1, \n",
    "                                           pos['RB']['med_features'], \n",
    "                                           pos['RB']['sum_features'],\n",
    "                                           pos['RB']['max_features'], \n",
    "                                           pos['RB']['age_features'],\n",
    "                                           target_feature=i)\n",
    "\n",
    "    df_train = df_train.dropna(subset=['y_act']).reset_index(drop=True)\n",
    "\n",
    "    df_train = df_train.fillna(df_train.mean())\n",
    "    df_predict = df_predict.dropna().reset_index(drop=True)\n",
    "\n",
    "    #--------\n",
    "    # Remove low correlation features and high VIF features\n",
    "    #--------\n",
    "\n",
    "    # remove low correlation features\n",
    "    df_train, df_predict = corr_removal(df_train, df_predict, corr_cutoff=0.05)\n",
    "\n",
    "    # select only features with low vif for modeling\n",
    "    transformer = ReduceVIF(thresh=100, scale=True, print_progress=False)\n",
    "    df_train_ = transformer.fit_transform(df_train.drop(['y_act', 'player'], axis=1), df_train.y_act)\n",
    "\n",
    "    # extract best columns and filter down df_predict\n",
    "    best_cols = list(df_train_.columns)\n",
    "    best_cols.append('player')\n",
    "    df_predict = df_predict[best_cols]\n",
    "\n",
    "    # add target and filter down df_train\n",
    "    best_cols.extend(['y_act', 'year'])\n",
    "    df_train = df_train[best_cols]\n",
    "    df_train.loc[:,~df_train.columns.duplicated()]\n",
    "\n",
    "    #--------\n",
    "    # Run ensemble model with parameter optimization\n",
    "    #--------\n",
    "\n",
    "    # generate a master dictionary of parameters (must match the)\n",
    "    param_list = [lgbm_params, xgb_params, lasso_params]\n",
    "    est_names = ['lgbm', 'xgb', 'lasso']\n",
    "\n",
    "    params = {}\n",
    "    for i, param in enumerate(param_list):\n",
    "        params[est_names[i]] = param\n",
    "\n",
    "    param_results, summary, df_train_results_, errors = validation(est_names, params, df_train, iterations=100, random_state=1234)\n",
    "\n",
    "    #--------\n",
    "    # Print best results\n",
    "    #--------\n",
    "\n",
    "    print(summary.head(10))\n",
    "    best_result = summary.index[0]\n",
    "    df_test_results_, models = generate_predictions(best_result, param_results, summary, df_train, df_predict)\n",
    "    \n",
    "    #--------\n",
    "    # Aggregate all results through merging\n",
    "    #--------\n",
    "    \n",
    "    df_train_results = pd.merge(df_train_results, df_train_results_[['player', 'year', 'pred']], \n",
    "                                how='inner', left_on=['player', 'year'], right_on=['player', 'year'])\n",
    "    \n",
    "    df_test_results = pd.merge(df_test_results, df_test_results_[['player', 'pred']], \n",
    "                               how='inner', left_on='player', right_on='player')"
   ]
  },
  {
   "cell_type": "markdown",
   "metadata": {},
   "source": [
    "# Clustering Players into Tiers"
   ]
  },
  {
   "cell_type": "code",
   "execution_count": null,
   "metadata": {},
   "outputs": [],
   "source": [
    "model_features = [models[0], models[1], models[2]]\n",
    "\n",
    "cluster = clustering(df_train_results, df_test_results, model_features, pred_weight=4)\n",
    "cluster.explore_k(k=15)"
   ]
  },
  {
   "cell_type": "code",
   "execution_count": null,
   "metadata": {},
   "outputs": [],
   "source": [
    "cluster.fit_and_predict(k=8)\n",
    "c_train, c_test = cluster.add_clusters()"
   ]
  },
  {
   "cell_type": "markdown",
   "metadata": {},
   "source": [
    "# Tier 1"
   ]
  },
  {
   "cell_type": "code",
   "execution_count": null,
   "metadata": {},
   "outputs": [],
   "source": [
    "cluster.show_results(j=7)"
   ]
  },
  {
   "cell_type": "markdown",
   "metadata": {},
   "source": [
    "## Tier 2"
   ]
  },
  {
   "cell_type": "code",
   "execution_count": null,
   "metadata": {},
   "outputs": [],
   "source": [
    "cluster.show_results(j=1)"
   ]
  },
  {
   "cell_type": "code",
   "execution_count": null,
   "metadata": {},
   "outputs": [],
   "source": [
    "rb_sampling = cluster.create_distributions(dataset='train', wt=2.5)"
   ]
  },
  {
   "cell_type": "code",
   "execution_count": null,
   "metadata": {},
   "outputs": [],
   "source": [
    "cluster_predictions = pd.merge(rb_sampling[['player', 'year', 'pred']], df_train[['player', 'year', 'y_act']], \n",
    "                               how='inner', left_on=['player', 'year'], right_on=['player', 'year'])"
   ]
  },
  {
   "cell_type": "code",
   "execution_count": null,
   "metadata": {},
   "outputs": [],
   "source": [
    "XX = cluster_predictions.pred\n",
    "yy = cluster_predictions.y_act\n",
    "\n",
    "pearsonr(XX, yy)\n",
    "\n",
    "from sklearn.linear_model import LinearRegression\n",
    "\n",
    "lr = LinearRegression()\n",
    "\n",
    "lr.fit(XX.values.reshape(-1,1), yy)\n",
    "lr.score(XX.values.reshape(-1,1), yy)"
   ]
  },
  {
   "cell_type": "markdown",
   "metadata": {},
   "source": [
    "# Example Distribution (Assuming 16 Games)"
   ]
  },
  {
   "cell_type": "code",
   "execution_count": null,
   "metadata": {},
   "outputs": [],
   "source": [
    "view_projections(rb_sampling, 'Dalvin Cook')"
   ]
  },
  {
   "cell_type": "code",
   "execution_count": null,
   "metadata": {},
   "outputs": [],
   "source": [
    "view_projections(rb_sampling, 'Alvin Kamara')"
   ]
  },
  {
   "cell_type": "code",
   "execution_count": null,
   "metadata": {},
   "outputs": [],
   "source": [
    "view_projections(rb_sampling, 'Joe Mixon')"
   ]
  },
  {
   "cell_type": "code",
   "execution_count": null,
   "metadata": {},
   "outputs": [],
   "source": [
    "view_projections(rb_sampling, \"Le'Veon Bell\")"
   ]
  },
  {
   "cell_type": "code",
   "execution_count": null,
   "metadata": {},
   "outputs": [],
   "source": [
    "view_projections(rb_sampling, \"Melvin Gordon\")"
   ]
  },
  {
   "cell_type": "code",
   "execution_count": null,
   "metadata": {},
   "outputs": [],
   "source": [
    "rb_sampling.to_csv('/Users/Mark/Desktop/Jupyter Projects/Fantasy Football/Projections/rb_sampling.csv')"
   ]
  },
  {
   "cell_type": "code",
   "execution_count": null,
   "metadata": {},
   "outputs": [],
   "source": []
  }
 ],
 "metadata": {
  "kernelspec": {
   "display_name": "Python 3",
   "language": "python",
   "name": "python3"
  },
  "language_info": {
   "codemirror_mode": {
    "name": "ipython",
    "version": 3
   },
   "file_extension": ".py",
   "mimetype": "text/x-python",
   "name": "python",
   "nbconvert_exporter": "python",
   "pygments_lexer": "ipython3",
   "version": "3.6.4"
  }
 },
 "nbformat": 4,
 "nbformat_minor": 2
}
