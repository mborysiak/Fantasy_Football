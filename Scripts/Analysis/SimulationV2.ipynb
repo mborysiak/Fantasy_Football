{
 "cells": [
  {
   "cell_type": "markdown",
   "metadata": {},
   "source": [
    "# User Inputs"
   ]
  },
  {
   "cell_type": "code",
   "execution_count": null,
   "metadata": {},
   "outputs": [],
   "source": [
    "#==============\n",
    "# Load Packages\n",
    "#==============\n",
    "\n",
    "# jupyter specifications\n",
    "from IPython.core.interactiveshell import InteractiveShell\n",
    "%matplotlib inline\n",
    "%config InlineBackend.figure_format = 'retina'\n",
    "from simulation import *\n",
    "\n",
    "#===============\n",
    "# Settings and User Inputs\n",
    "#===============\n",
    "\n",
    "#--------\n",
    "# Database Login Info\n",
    "#--------\n",
    "\n",
    "# postgres login information\n",
    "pg_log = {\n",
    "    'USER': 'postgres',\n",
    "    'PASSWORD': 'Ctdim#1bf!!!!!',\n",
    "    'HOST': 'localhost',\n",
    "    'PORT': '5432', \n",
    "    'DATABASE_NAME': 'fantasyfootball'\n",
    "}\n",
    "\n",
    "# create engine for connecting to database\n",
    "engine = create_engine('postgres+psycopg2://{}:{}@{}:{}/{}'.format(pg_log['USER'], pg_log['PASSWORD'], pg_log['HOST'],\n",
    "                                                                   pg_log['PORT'], pg_log['DATABASE_NAME']))\n",
    "\n",
    "# specify schema and table to write out intermediate results\n",
    "table_info = {\n",
    "    'engine': engine,\n",
    "    'schema': 'websitedev',\n",
    "}\n",
    "\n",
    "np.random.seed(123)\n",
    "\n",
    "#--------\n",
    "# League Settings\n",
    "#--------\n",
    "\n",
    "# set year\n",
    "year = 2018\n",
    "\n",
    "# set the number of simulation iterations\n",
    "iterations = 750\n",
    "\n",
    "# define point values for all statistical categories\n",
    "pass_yd_per_pt = 0.04 \n",
    "pass_td_pt = 5\n",
    "int_pts = -2\n",
    "sacks = -1\n",
    "rush_yd_per_pt = 0.1 \n",
    "rec_yd_per_pt = 0.1\n",
    "rush_rec_td = 7\n",
    "ppr = 0.5\n",
    "\n",
    "# creating dictionary containing point values for each position\n",
    "pts_dict = {}\n",
    "pts_dict['QB'] = [pass_yd_per_pt, pass_td_pt, rush_yd_per_pt, rush_rec_td, int_pts, sacks]\n",
    "pts_dict['RB'] = [rush_yd_per_pt, rec_yd_per_pt, ppr, rush_rec_td]\n",
    "pts_dict['WR'] = [rec_yd_per_pt, ppr, rush_rec_td]\n",
    "pts_dict['TE'] = [rec_yd_per_pt, ppr, rush_rec_td]\n",
    "\n",
    "# set league information, included position requirements, number of teams, and salary cap\n",
    "league_info = {}\n",
    "league_info['pos_require'] = {'QB': 1, 'RB': 2, 'WR': 2, 'TE': 1, 'FLEX': 2}\n",
    "league_info['num_teams'] = 12\n",
    "league_info['initial_cap'] = 295\n",
    "league_info['salary_cap'] = 295\n",
    "\n",
    "# input information for players and their associated salaries selected by other teams\n",
    "to_drop = {}\n",
    "to_drop['players'] = ['Todd Gurley', 'David Johnson', 'Tyreek Hill', 'Christian McCaffrey', 'Travis Kelce',\n",
    "                      'Michael Thomas', 'Ezekiel Elliot', 'Kareem Hunt', 'Jerick McKinnon', 'Larry Fitzgerald',\n",
    "                      'Russell Wilson']\n",
    "to_drop['salaries'] = [80, 45, 21, 30, 62, 36, 35, 99, 70, 17, 39, 10]\n",
    "\n",
    "# input information for players and their associated salaries selected by your team\n",
    "to_add = {}\n",
    "to_add['players'] = ['Alvin Kamara', 'Dalvin Cook']\n",
    "to_add['salaries'] = [20, 30]"
   ]
  },
  {
   "cell_type": "markdown",
   "metadata": {},
   "source": [
    "# Pull in Data"
   ]
  },
  {
   "cell_type": "code",
   "execution_count": null,
   "metadata": {
    "scrolled": false
   },
   "outputs": [],
   "source": [
    "# instantiate simulation class and add salary information to data\n",
    "sim = FootballSimulation(pts_dict, table_info, set_year=2018)\n",
    "results, counts = sim.run_simulation(league_info, to_drop, to_add, iterations=iterations)"
   ]
  },
  {
   "cell_type": "code",
   "execution_count": null,
   "metadata": {},
   "outputs": [],
   "source": [
    "sim.show_most_selected(to_add, iterations, num_show=30)"
   ]
  },
  {
   "cell_type": "code",
   "execution_count": null,
   "metadata": {},
   "outputs": [],
   "source": [
    "to_add['salaries']"
   ]
  },
  {
   "cell_type": "code",
   "execution_count": null,
   "metadata": {},
   "outputs": [],
   "source": [
    "from scipy.stats import skewnorm"
   ]
  },
  {
   "cell_type": "code",
   "execution_count": null,
   "metadata": {},
   "outputs": [],
   "source": [
    "plt.hist(100+100*(skewnorm.rvs(5, size=1000)*.1));"
   ]
  },
  {
   "cell_type": "code",
   "execution_count": null,
   "metadata": {},
   "outputs": [],
   "source": [
    "plt.hist(100+100*(skewnorm.rvs(2, size=1000)*.1));"
   ]
  },
  {
   "cell_type": "code",
   "execution_count": null,
   "metadata": {},
   "outputs": [],
   "source": []
  }
 ],
 "metadata": {
  "kernelspec": {
   "display_name": "Python 3",
   "language": "python",
   "name": "python3"
  },
  "language_info": {
   "codemirror_mode": {
    "name": "ipython",
    "version": 3
   },
   "file_extension": ".py",
   "mimetype": "text/x-python",
   "name": "python",
   "nbconvert_exporter": "python",
   "pygments_lexer": "ipython3",
   "version": "3.6.8"
  }
 },
 "nbformat": 4,
 "nbformat_minor": 2
}
