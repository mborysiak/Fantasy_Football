{
 "cells": [
  {
   "cell_type": "markdown",
   "metadata": {},
   "source": [
    "# User Inputs"
   ]
  },
  {
   "cell_type": "code",
   "execution_count": null,
   "metadata": {},
   "outputs": [],
   "source": [
    "#==========\n",
    "# General Setting\n",
    "#==========\n",
    "\n",
    "# set core path\n",
    "path = '/Users/Mark/Documents/Github/Fantasy_Football/'\n",
    "\n",
    "# set name of database\n",
    "db_name = 'Simulation_Inputs.sqlite3'\n",
    "\n",
    "# set year\n",
    "year = 2018\n",
    "\n",
    "# position constraints, in order: QB, RB, WR, TE, FLEX\n",
    "pos_require = [1, 0, 0, 1, 5] \n",
    "\n",
    "# setting the salary cap\n",
    "salary_cap = 290\n",
    "\n",
    "# set inflation amount\n",
    "inflation = 1.15\n",
    "\n",
    "my_keepers = {}\n",
    "my_keepers['Alvin Kamara'] = 31\n",
    "my_keepers['Nick Chubb'] = 18"
   ]
  },
  {
   "cell_type": "markdown",
   "metadata": {},
   "source": [
    "# Load Packages"
   ]
  },
  {
   "cell_type": "code",
   "execution_count": null,
   "metadata": {},
   "outputs": [],
   "source": [
    "# core packages\n",
    "import pandas as pd\n",
    "import numpy as np\n",
    "import os\n",
    "import sqlite3\n",
    "import random\n",
    "import time\n",
    "\n",
    "# linear optimization\n",
    "from cvxopt import matrix\n",
    "from cvxopt.glpk import ilp\n",
    "from scipy.stats import skewnorm\n",
    "\n",
    "# jupyter specifications\n",
    "pd.options.mode.chained_assignment = None\n",
    "from IPython.core.interactiveshell import InteractiveShell\n",
    "%matplotlib inline\n",
    "%config InlineBackend.figure_format = 'retina'\n",
    "\n",
    "# plotting functions\n",
    "import matplotlib.pyplot as plt\n",
    "import seaborn as sns"
   ]
  },
  {
   "cell_type": "code",
   "execution_count": null,
   "metadata": {},
   "outputs": [],
   "source": [
    "# change directory temporarily to helper scripts\n",
    "os.chdir(path + 'Scripts/Analysis/Helper_Scripts')\n",
    "\n",
    "# load custom plot functions\n",
    "from my_plot import PrettyPlot\n",
    "PrettyPlot(plt)\n",
    "\n",
    "# load custom helper functions\n",
    "from helper_functions import *;"
   ]
  },
  {
   "cell_type": "markdown",
   "metadata": {},
   "source": [
    "# Pull in Data"
   ]
  },
  {
   "cell_type": "code",
   "execution_count": null,
   "metadata": {},
   "outputs": [],
   "source": [
    "# connect to database and pull in positional data\n",
    "conn = sqlite3.connect(path + 'Data/' + db_name)\n",
    "qb = pd.read_sql_query('SELECT * FROM ' + 'QB_Sim_' + str(year), con=conn)\n",
    "rb = pd.read_sql_query('SELECT * FROM ' + 'RB_Sim_' + str(year), con=conn)\n",
    "wr = pd.read_sql_query('SELECT * FROM ' + 'WR_Sim_' + str(year), con=conn)\n",
    "te = pd.read_sql_query('SELECT * FROM ' + 'TE_Sim_' + str(year), con=conn)\n",
    "\n",
    "flex = pd.concat([rb, wr, te], axis=0)"
   ]
  },
  {
   "cell_type": "code",
   "execution_count": null,
   "metadata": {},
   "outputs": [],
   "source": [
    "salary_data = pd.read_csv('/Users/Mark/Desktop/Jupyter Projects/Fantasy Football/Projections/salaries.csv')\n",
    "salary_data = salary_data.dropna(axis=1)"
   ]
  },
  {
   "cell_type": "markdown",
   "metadata": {},
   "source": [
    "# Helper Functions"
   ]
  },
  {
   "cell_type": "code",
   "execution_count": null,
   "metadata": {},
   "outputs": [],
   "source": [
    "def long_to_wide(df):\n",
    "    \n",
    "    # add an index from 0 to 10000 for each player to use at column heading\n",
    "    df['idx'] = len(df.player.unique())*list(range(0, 10000))\n",
    "    \n",
    "    # pivot dataframe to wide format with player on rows and 0-10000 as cols\n",
    "    df = df.pivot(index='player', columns='idx', values='pred')\n",
    "    \n",
    "    return df"
   ]
  },
  {
   "cell_type": "code",
   "execution_count": null,
   "metadata": {},
   "outputs": [],
   "source": [
    "def df_shuffle(df):\n",
    "    \n",
    "    # store the index before converting to numpy\n",
    "    idx = df.index\n",
    "    df = df.values\n",
    "    \n",
    "    # shuffle each row separately, inplace, and convert o df\n",
    "    _ = [np.random.shuffle(i) for i in df]\n",
    "    \n",
    "    return pd.DataFrame(df, index=idx)"
   ]
  },
  {
   "cell_type": "code",
   "execution_count": null,
   "metadata": {},
   "outputs": [],
   "source": [
    "def skews(all_df):\n",
    "    \n",
    "    # initialize numpy array for appending skews\n",
    "    salary_skews = np.zeros(shape=(1,10000), dtype='float')\n",
    "    \n",
    "    # loop through each positional dataframe\n",
    "    for df in all_df:\n",
    "        \n",
    "        # pull out the salary column and convert to numpy array\n",
    "        salaries = df.loc[:, 'salary'].values.reshape(-1,1)\n",
    "        \n",
    "        # create a skews normal distribution of uncertainty for salaries\n",
    "        skews = (skewnorm.rvs(2, size=10000)*5/100).reshape(1, -1)\n",
    "        \n",
    "        # create a p x m matrix with dot product, where p is the number of players\n",
    "        # and m is the number of skewed uncertainties, e.g. 320 players x 10000 skewed errors\n",
    "        skews = np.dot(salaries, skews)\n",
    "        \n",
    "        # concatenate each position's results\n",
    "        salary_skews = np.concatenate((salary_skews, skews))\n",
    "    \n",
    "    return salary_skews[1:,:]"
   ]
  },
  {
   "cell_type": "code",
   "execution_count": null,
   "metadata": {},
   "outputs": [],
   "source": [
    "def random_select(all_df, salary_skews):\n",
    "    \n",
    "    names = []\n",
    "    points = []\n",
    "    salaries = []\n",
    "    \n",
    "    # select random number between 0-10000\n",
    "    ran_num = random.randint(0, 9999)\n",
    "    \n",
    "    for df in all_df:\n",
    "        names.extend(df.iloc[:, ran_num].index)\n",
    "        points.extend(df.iloc[:, ran_num].values)\n",
    "        salaries.extend(df.loc[:, 'salary'].values)\n",
    "    \n",
    "    names = np.array(names)\n",
    "    points = np.array(points)*-1\n",
    "    salaries = salaries + salary_skews[:, ran_num]\n",
    "    \n",
    "    return names, points, salaries"
   ]
  },
  {
   "cell_type": "code",
   "execution_count": null,
   "metadata": {},
   "outputs": [],
   "source": [
    "def A_matrix(all_df, vec):\n",
    "    '''\n",
    "    This function creates the A matrix that is critical for the ILP solution being equal\n",
    "    to the positional constraints specified. I identified the given pattern empirically:\n",
    "    1. Repeat the vector [1, 0, 0, 0, ...] N times for each player for a given position.\n",
    "       The number of trailing zeros is equal to p-1 positions to draft.\n",
    "    2. After the above vector is repeated N times for a given player, append a 0 before\n",
    "       repeating the same pattern for the next player. Repeat for all players up until the \n",
    "       last position.\n",
    "    3. for the last poition, repeat the pattern N-1 times and append a 1 at the end.\n",
    "    This pattern allows the b vector, e.g. [1, 2, 2, 1] to set the constraints on the positions\n",
    "    selected by the ILP solution.\n",
    "    '''\n",
    "    # get all the row-lengths of each df to determine number of samples\n",
    "    shapes = [df.shape[0] for df in all_df]\n",
    "    \n",
    "    # intialize A matrix by multiplying length one by vec and appending 0 to start pattern\n",
    "    A = shapes[0]*vec\n",
    "    A.append(0)\n",
    "\n",
    "    # repeat the same pattern for the inner position requirements\n",
    "    for i in range(1, len(shapes)-1):\n",
    "        \n",
    "        A.extend(shapes[i]*vec)\n",
    "        A.append(0)\n",
    "        \n",
    "    # adjust the pattern slightly for the final position requirement\n",
    "    A.extend((shapes[-1]-1)*vec)\n",
    "    A.append(1)\n",
    "\n",
    "    # convert A into a matrix for integer optimization\n",
    "    A = matrix(A, size=(len(vec), np.sum(shapes)), tc='d')\n",
    "    \n",
    "    return A"
   ]
  },
  {
   "cell_type": "code",
   "execution_count": null,
   "metadata": {},
   "outputs": [],
   "source": [
    "def run_opt(A, points, salaries, salary_cap, pos_require):\n",
    "    \n",
    "    '''\n",
    "    This function sets up and solves the integer Linear Programming problem \n",
    "    c = n x 1 -- c is the vector of points to be optimized\n",
    "    G = m x n -- G is the salaries of the corresponding players / points (m=1 in this case)\n",
    "    h = m x 1 -- h is the salary cap (m=1 in this case)\n",
    "    A = p x n -- A sparse binary matrix that must be developed so b equals player constraints\n",
    "    b = p x 1 -- b is a vector with player requirements, e.g. [QB, RB, WR] = [1, 2, 2]\n",
    "    \n",
    "    Solve:\n",
    "    c'*n -- minimize\n",
    "    \n",
    "    Subject to:\n",
    "    G*x <= h\n",
    "    A*x = b\n",
    "    '''\n",
    "    \n",
    "    # generate the c matrix with the point values to be optimized\n",
    "    c = matrix(points, tc='d')\n",
    "    \n",
    "    # generate the G matrix that contains the salary values for constraining\n",
    "    G = matrix(salaries, tc='d').T\n",
    "    \n",
    "    # generate the h matrix with the salary cap constraint\n",
    "    h = matrix(salary_cap, size=(1,1), tc='d')\n",
    "    \n",
    "    # generate the b matrix with the number of position constraints\n",
    "    b = matrix(pos_require, size=(len(pos_require), 1), tc='d')\n",
    "    \n",
    "    # solve the integer LP problem\n",
    "    (status, x) = ilp(c, G, h, A=A, b=b, B=set(range(0, len(points))))\n",
    "    \n",
    "    return x"
   ]
  },
  {
   "cell_type": "code",
   "execution_count": null,
   "metadata": {},
   "outputs": [],
   "source": [
    "def pull_results(x, names, points, salaries, results, counts):\n",
    "    \n",
    "    # find all LP results chosen and equal to 1\n",
    "    x = np.array(x)[:, 0]==1\n",
    "    \n",
    "    for i, p in enumerate(names[x]):\n",
    "        \n",
    "        counts['names'][p] += 1\n",
    "    \n",
    "        if counts['points'][p] == 0:\n",
    "            counts['points'][p] = []\n",
    "        counts['points'][p].append(points[x][i])\n",
    "    \n",
    "        if counts['salary'][p] == 0:\n",
    "            counts['salary'][p] = []\n",
    "        counts['salary'][p].append(salaries[x][i])\n",
    "    \n",
    "    # pull out the corresponding names, points, and salaries for chosen players\n",
    "    # to append to the higher level results dataframes\n",
    "    results['names'].append(list(names[x]))\n",
    "    results['points'].append(list(points[x]))\n",
    "    results['salary'].append(list(salaries[x]))\n",
    "    \n",
    "    \n",
    "    \n",
    "    return results, counts"
   ]
  },
  {
   "cell_type": "markdown",
   "metadata": {},
   "source": [
    "# Prepate Data for Simulation"
   ]
  },
  {
   "cell_type": "code",
   "execution_count": null,
   "metadata": {},
   "outputs": [],
   "source": [
    "#==========\n",
    "# Prepare DataFrames for Simulation\n",
    "#==========\n",
    "\n",
    "#--------\n",
    "# Extract Data to Wide Format\n",
    "#--------\n",
    "\n",
    "# convert all data from long to wide and store in a list of dataframes\n",
    "all_df = [long_to_wide(df) for df in [qb, rb, wr, te, flex]]\n",
    "\n",
    "#--------\n",
    "# Merge Salary to Player and Add Inflation\n",
    "#--------\n",
    "\n",
    "# temp add salary before figuring out better way\n",
    "all_df = [pd.merge(df, salary_data, how='inner', left_index=True, right_on='player').sort_values('salary', ascending=False) for df in all_df]\n",
    "all_df = [df.set_index('player', drop=True) for df in all_df]\n",
    "\n",
    "for i in range(0, len(all_df)):\n",
    "    all_df[i]['salary'] = all_df[i].salary*inflation\n",
    "\n",
    "#--------\n",
    "# Calculate Salary Skews\n",
    "#--------\n",
    "\n",
    "salary_skews = skews(all_df)"
   ]
  },
  {
   "cell_type": "markdown",
   "metadata": {},
   "source": [
    "# Run Simulation"
   ]
  },
  {
   "cell_type": "code",
   "execution_count": null,
   "metadata": {},
   "outputs": [],
   "source": [
    "#==========\n",
    "# Run the Simulation\n",
    "#==========\n",
    "\n",
    "# create A matrix\n",
    "vec = [1]\n",
    "vec.extend([0]*(len(pos_require)-1))\n",
    "A = A_matrix(all_df, vec)\n",
    "\n",
    "# create empty matrices\n",
    "results = {}\n",
    "results['names'] = []\n",
    "results['points'] = []\n",
    "results['salary'] = []\n",
    "\n",
    "counts = {}\n",
    "counts['names'] = pd.Series(0, index=names).to_dict()\n",
    "counts['points'] = pd.Series([0], index=names).to_dict()\n",
    "counts['salary'] = pd.Series([0], index=names).to_dict()\n",
    "\n",
    "start = time.time()\n",
    "# loop through N times and simulate best results\n",
    "for i in range(0, 1000):\n",
    "    \n",
    "    # pull out names, points, and salaries from random distribution\n",
    "    names, points, salaries= random_select(all_df, salary_skews)\n",
    "    \n",
    "    # run linear integer optimization\n",
    "    x = run_opt(A, points, salaries, salary_cap, pos_require)\n",
    "    \n",
    "    # pull out the actual names, points, and salaries\n",
    "    results, counts = pull_results(x, names, points, salaries, results, counts)\n",
    "    \n",
    "time.time()-start"
   ]
  },
  {
   "cell_type": "code",
   "execution_count": null,
   "metadata": {},
   "outputs": [],
   "source": [
    "%timeit names, points, salaries= random_select(all_df, salary_skews)"
   ]
  },
  {
   "cell_type": "code",
   "execution_count": null,
   "metadata": {},
   "outputs": [],
   "source": [
    "%timeit run_opt(A, points, salaries, salary_cap, pos_require)"
   ]
  },
  {
   "cell_type": "code",
   "execution_count": null,
   "metadata": {},
   "outputs": [],
   "source": [
    "%timeit pull_results(x, names, points, salaries, results, counts)"
   ]
  },
  {
   "cell_type": "code",
   "execution_count": null,
   "metadata": {},
   "outputs": [],
   "source": [
    "name_results = pd.DataFrame(name_results)\n",
    "point_results = pd.DataFrame(point_results)*-1\n",
    "total_points = point_results.sum(axis=1)\n",
    "salary_results = pd.DataFrame(salary_results)\n",
    "total_salary = salary_results.sum(axis=1)\n",
    "results = pd.concat([name_results, total_points, total_salary, point_results, salary_results], axis=1)\n",
    "results.columns = range(0, results.shape[1])"
   ]
  },
  {
   "cell_type": "code",
   "execution_count": null,
   "metadata": {
    "scrolled": false
   },
   "outputs": [],
   "source": [
    "results = results.sort_values(by=7, ascending=False).reset_index(drop=True)\n",
    "results"
   ]
  },
  {
   "cell_type": "markdown",
   "metadata": {},
   "source": [
    "# OLD"
   ]
  },
  {
   "cell_type": "code",
   "execution_count": null,
   "metadata": {},
   "outputs": [],
   "source": [
    "rb = rb.append(rookie_rb).reset_index(drop=True)"
   ]
  },
  {
   "cell_type": "code",
   "execution_count": null,
   "metadata": {},
   "outputs": [],
   "source": [
    "flex = rb.append(wr)\n",
    "flex = flex.reset_index(drop=True)"
   ]
  },
  {
   "cell_type": "code",
   "execution_count": null,
   "metadata": {},
   "outputs": [],
   "source": [
    "# set inflation\n",
    "qb['salary'] = qb.salary * 1.15\n",
    "rb['salary'] = rb.salary * 1.15\n",
    "wr['salary'] = wr.salary * 1.15\n",
    "te['salary'] = te.salary * 1.15\n",
    "flex['salary'] = flex.salary * 1.15"
   ]
  },
  {
   "cell_type": "code",
   "execution_count": null,
   "metadata": {},
   "outputs": [],
   "source": [
    "# remove keepers\n",
    "keepers = ['Christian McCaffrey',\n",
    "           'Michael Thomas',\n",
    "           'Josh Gordon',\n",
    "           'Larry Fitzgerald',\n",
    "           'Deshaun Watson',\n",
    "           'Travis Kelce',\n",
    "           'Russell Wilson',\n",
    "           'Todd Gurley',\n",
    "           'Devin Funchess',\n",
    "           'David Johnson',\n",
    "           'Alex Collins',\n",
    "           'Ezekiel Elliott',\n",
    "           'Kareem Hunt',\n",
    "           'Jerick McKinnon',\n",
    "           'Josh Gordon',\n",
    "           'Allen Robinson', \n",
    "           'Julian Edelman',\n",
    "           'Tyreek Hill',\n",
    "           'Marvin Jones']\n",
    "\n",
    "def drop_keepers(df, keepers):\n",
    "    for player in keepers:\n",
    "        idx = df[df.player == player].index\n",
    "        df = df.drop(idx, axis=0).reset_index(drop=True)\n",
    "    \n",
    "    return df\n",
    "\n",
    "rb = drop_keepers(rb, keepers)\n",
    "wr = drop_keepers(wr, keepers)\n",
    "flex = drop_keepers(flex, keepers)\n",
    "te = drop_keepers(te, keepers)\n",
    "qb = drop_keepers(qb, keepers)"
   ]
  },
  {
   "cell_type": "markdown",
   "metadata": {},
   "source": [
    "# Functions"
   ]
  },
  {
   "cell_type": "code",
   "execution_count": null,
   "metadata": {},
   "outputs": [],
   "source": [
    "plt.hist(80*(skewnorm.rvs(2, size=1000)*5/100))"
   ]
  },
  {
   "cell_type": "code",
   "execution_count": null,
   "metadata": {},
   "outputs": [],
   "source": [
    "from scipy.stats import skewnorm\n",
    "80+80*(skewnorm.rvs(1, size=1)*4/100)"
   ]
  },
  {
   "cell_type": "code",
   "execution_count": null,
   "metadata": {},
   "outputs": [],
   "source": [
    "\n",
    "def grab_player(df):\n",
    "    \n",
    "    rindex = random.randint(0, df.shape[0]-1)\n",
    "    rcol = random.randint(4, 1003)\n",
    "    \n",
    "    points = df.iloc[rindex, rcol] + df.iloc[rindex, 3]\n",
    "    money = df.iloc[rindex, 1] + df.iloc[rindex, 1]*(skewnorm.rvs(.5, size=1)*4/100)\n",
    "    name = df.iloc[rindex, 0]\n",
    "    \n",
    "    return(name, points, money[0])"
   ]
  },
  {
   "cell_type": "code",
   "execution_count": null,
   "metadata": {},
   "outputs": [],
   "source": [
    "def pull_specific_player(name):\n",
    "    \n",
    "    # specify keepers for team\n",
    "    alvin_idx = flex[flex.player == 'Alvin Kamara'].index\n",
    "    dalvin_idx = flex[flex.player == 'Dalvin Cook'].index\n",
    "\n",
    "    # create temporary flex dataframe that does not contain keepers\n",
    "    tmp_flex = flex.drop(alvin_idx, axis=0)\n",
    "    tmp_flex = tmp_flex.drop(dalvin_idx, axis=0).reset_index(drop=True)\n",
    "    \n",
    "    if name == None:\n",
    "        # set specific flex to tmp_flex if no specific player should be pulled\n",
    "        specific_flex = tmp_flex\n",
    "    else:\n",
    "        # set specific flex to the player named in function input\n",
    "        idx = tmp_flex[tmp_flex.player == name].index[0]\n",
    "        specific_flex = pd.DataFrame([tmp_flex.iloc[idx, :], tmp_flex.iloc[idx, :]]).reset_index(drop=True)\n",
    "        \n",
    "        # drop specific player from tmp_flex that other players are drawn from\n",
    "        tmp_flex = tmp_flex.drop(idx, axis=0).reset_index(drop=True)\n",
    "        \n",
    "    return tmp_flex, specific_flex"
   ]
  },
  {
   "cell_type": "code",
   "execution_count": null,
   "metadata": {},
   "outputs": [],
   "source": [
    "def sim_par(n):\n",
    "        \n",
    "    rcol = random.randint(4, 1002)\n",
    "    alvin_pts = rb.iloc[1, rcol] + rb.iloc[1, 3]\n",
    "    dalvin_pts = rb.iloc[44, rcol] + rb.iloc[44, 3]\n",
    "\n",
    "    if (n+1) % 500000 == 0:\n",
    "            print(str(datetime.datetime.now())[:-7])\n",
    "            print('Completed ' + str(n+1) + ' iterations')\n",
    "            \n",
    "    qb_name, qb_pts, qb_money = grab_player(qb)\n",
    "\n",
    "    rb1_name, rb1_pts, rb1_money = 'Alvin Kamara', alvin_pts, 20\n",
    "    rb2_name, rb2_pts, rb2_money = 'Dalvin Cook', dalvin_pts, 31\n",
    "    \n",
    "    wr1_name, wr1_pts, wr1_money = grab_player(tmp_flex)\n",
    "    wr2_name, wr2_pts, wr2_money = grab_player(tmp_flex)\n",
    "        \n",
    "    te_name, te_pts, te_money = grab_player(te)\n",
    "        \n",
    "    flex1_name, flex1_pts, flex1_money = grab_player(tmp_flex)            \n",
    "    flex2_name, flex2_pts, flex2_money = grab_player(specific_flex)\n",
    "    \n",
    "    salary = qb_money + rb1_money + rb2_money + wr1_money + wr2_money + te_money+ flex1_money + flex2_money\n",
    "    \n",
    "    y = qb_pts + rb1_pts + rb2_pts + wr1_pts + wr2_pts + te_pts + flex1_pts + flex2_pts - np.exp(.1*(salary-293))\n",
    "\n",
    "    if (salary > 310) | (salary < 250) | (y < 115):\n",
    "        return\n",
    "            \n",
    "    sort_money = pd.Series([qb_money, rb1_money, rb2_money, wr1_money, wr2_money, te_money, flex1_money, flex2_money],\n",
    "                                index = [qb_name, rb1_name, rb2_name, wr1_name, wr2_name, te_name, flex1_name, flex2_name]).sort_values(ascending=False)\n",
    "    \n",
    "    # 1. extend list w/ player names, 2. append total points, 3. append total salary, 4. extend salary values\n",
    "    results = list(sort_money.index)\n",
    "    results.append(y)\n",
    "    results.append(salary)\n",
    "    results.extend(sort_money.values)\n",
    "        \n",
    "    return results"
   ]
  },
  {
   "cell_type": "code",
   "execution_count": null,
   "metadata": {},
   "outputs": [],
   "source": [
    "from multiprocessing import Pool\n",
    "import time\n",
    "import random\n",
    "\n",
    "def run_sim_par(iterations):\n",
    "    \n",
    "    p = Pool(processes=4)\n",
    "\n",
    "    t1 = time.time()\n",
    "    \n",
    "    result = p.map(sim_par, range(iterations))\n",
    "    p.close()\n",
    "    p.join()\n",
    "    \n",
    "    df = pd.DataFrame([i for i in result if i is not None])\n",
    "    df.columns = ['p1', 'p2', 'p3', 'p4', 'p5', 'p6', 'p7', 'p8', 'ppg', 'total_salary',\n",
    "                  'm1', 'm2', 'm3', 'm4', 'm5', 'm6', 'm7', 'm8']\n",
    "    \n",
    "    print('Time Elapsed: ' + str(round(time.time()-t1,2)))\n",
    "\n",
    "    return df"
   ]
  },
  {
   "cell_type": "code",
   "execution_count": null,
   "metadata": {},
   "outputs": [],
   "source": [
    "def show_results(results, cols, added_cost=0):\n",
    "    \n",
    "    # plot histogram and number of results that made it\n",
    "    print('')\n",
    "    print('o Number of Results Above 115 PPG:', results.shape[0])\n",
    "    print('')\n",
    "    print('')                           \n",
    "    \n",
    "    for col in cols:\n",
    "        \n",
    "        counts = pd.DataFrame(results.loc[:,'p'+col].value_counts()[:15])\n",
    "        money = pd.DataFrame(results.groupby('p'+col)['m'+col].agg(np.mean).astype('int'))\n",
    "\n",
    "        combined = pd.merge(counts, money, how='inner', left_index=True, right_index=True)\n",
    "        combined.columns = ['Counts', 'Avg_Cost']  \n",
    "        combined['Remaining $'] = 300 - (combined.Avg_Cost + added_cost + 30 + 21).astype('int')\n",
    "        \n",
    "        print('o Most Common ' + '#' + col + ' Players')\n",
    "        print('------------------------')\n",
    "        display(combined)\n",
    "        print('')\n",
    "        print('')"
   ]
  },
  {
   "cell_type": "markdown",
   "metadata": {},
   "source": [
    "# Standard Simulation"
   ]
  },
  {
   "cell_type": "code",
   "execution_count": null,
   "metadata": {},
   "outputs": [],
   "source": [
    "tmp_flex, specific_flex = pull_specific_player(None)\n",
    "df = run_sim_par(3000000)"
   ]
  },
  {
   "cell_type": "code",
   "execution_count": null,
   "metadata": {},
   "outputs": [],
   "source": [
    "show_results(df, ['1', '2', '3', '4'], added_cost=0)"
   ]
  },
  {
   "cell_type": "markdown",
   "metadata": {},
   "source": [
    "## Le'Veon First Pick"
   ]
  },
  {
   "cell_type": "code",
   "execution_count": null,
   "metadata": {},
   "outputs": [],
   "source": [
    "tmp_flex, specific_flex = pull_specific_player(\"Le'Veon Bell\")\n",
    "lev = run_sim_par(3000000)"
   ]
  },
  {
   "cell_type": "code",
   "execution_count": null,
   "metadata": {},
   "outputs": [],
   "source": [
    "show_results(lev, ['2', '3', '4'], added_cost=115)"
   ]
  },
  {
   "cell_type": "markdown",
   "metadata": {},
   "source": [
    "## Le'Veon First Pick + Require WR"
   ]
  },
  {
   "cell_type": "code",
   "execution_count": null,
   "metadata": {},
   "outputs": [],
   "source": [
    "tmp_flex, specific_flex = pull_specific_player(\"Le'Veon Bell\")\n",
    "lev_wr = run_sim_par(3000000)"
   ]
  },
  {
   "cell_type": "code",
   "execution_count": null,
   "metadata": {
    "scrolled": false
   },
   "outputs": [],
   "source": [
    "show_results(combined_lev, ['2', '3', '4', '5'], added_cost = 115)"
   ]
  },
  {
   "cell_type": "markdown",
   "metadata": {},
   "source": [
    "## AB First Pick"
   ]
  },
  {
   "cell_type": "code",
   "execution_count": null,
   "metadata": {},
   "outputs": [],
   "source": [
    "tmp_flex, specific_flex = pull_specific_player('Antonio Brown')\n",
    "combined_ab = run_sim_par(3000000)"
   ]
  },
  {
   "cell_type": "code",
   "execution_count": null,
   "metadata": {},
   "outputs": [],
   "source": [
    "show_results(combined_ab, ['1', '2', '3', '4'], added_cost = 108)"
   ]
  },
  {
   "cell_type": "markdown",
   "metadata": {},
   "source": [
    "## DeAndre First Pick"
   ]
  },
  {
   "cell_type": "code",
   "execution_count": null,
   "metadata": {},
   "outputs": [],
   "source": [
    "tmp_flex, specific_flex = pull_specific_player('DeAndre Hopkins')\n",
    "combined_deandre = run_sim_par(3000000)"
   ]
  },
  {
   "cell_type": "code",
   "execution_count": null,
   "metadata": {},
   "outputs": [],
   "source": [
    "show_results(combined_deandre, ['1', '2', '3', '4'], added_cost = 100)"
   ]
  },
  {
   "cell_type": "markdown",
   "metadata": {},
   "source": [
    "## Odell First Pick"
   ]
  },
  {
   "cell_type": "code",
   "execution_count": null,
   "metadata": {},
   "outputs": [],
   "source": [
    "tmp_flex, specific_flex = pull_specific_player('Odell Beckham')\n",
    "combined_obj = run_sim_par(3000000)"
   ]
  },
  {
   "cell_type": "code",
   "execution_count": null,
   "metadata": {},
   "outputs": [],
   "source": [
    "show_results(combined_obj, ['1', '2', '3', '4'], added_cost=97)"
   ]
  },
  {
   "cell_type": "markdown",
   "metadata": {},
   "source": [
    "# Late Round Dudes"
   ]
  },
  {
   "cell_type": "code",
   "execution_count": null,
   "metadata": {},
   "outputs": [],
   "source": []
  },
  {
   "cell_type": "code",
   "execution_count": null,
   "metadata": {},
   "outputs": [],
   "source": []
  },
  {
   "cell_type": "code",
   "execution_count": null,
   "metadata": {},
   "outputs": [],
   "source": []
  },
  {
   "cell_type": "markdown",
   "metadata": {},
   "source": [
    "# Create Visualizations"
   ]
  },
  {
   "cell_type": "code",
   "execution_count": null,
   "metadata": {},
   "outputs": [],
   "source": [
    "names = [\"L.Bell\", 'M.Evans', 'D.Adams', 'TY.Hilton', 'J.Mixon', 'AJ.Green', 'M.Gordon']"
   ]
  },
  {
   "cell_type": "code",
   "execution_count": null,
   "metadata": {},
   "outputs": [],
   "source": [
    "names_evans = ['', '', '', '', '', '', '',\n",
    "               'B.Cooks', 'A.Cooper', 'D.Baldwin', 'K.Drake', 'J.Landry']"
   ]
  },
  {
   "cell_type": "code",
   "execution_count": null,
   "metadata": {},
   "outputs": [],
   "source": [
    "names_adams = ['', '', '', '', '', '', '', \n",
    "               '', '', '', '', '', \n",
    "               'B.Cooks', 'J.Landry', 'A.Cooper', 'K.Drake', 'D.Henry']"
   ]
  },
  {
   "cell_type": "code",
   "execution_count": null,
   "metadata": {},
   "outputs": [],
   "source": [
    "names_hilton = ['', '', '', '', '', '', '',\n",
    "                '', '', '', '', '', \n",
    "                '', '', '', '', '', \n",
    "                'B.Cooks', 'J.Landry', 'D.Baldwin', 'G.Tate', 'A.Cooper']"
   ]
  },
  {
   "cell_type": "code",
   "execution_count": null,
   "metadata": {},
   "outputs": [],
   "source": [
    "names_mixon  = ['', '', '', '', '', '', '',\n",
    "                '', '', '', '', '', \n",
    "                '', '', '', '', '',\n",
    "                '', '', '', '', '',\n",
    "                'B.Cooks', 'J.Landry', 'D.Baldwin', 'A.Cooper', 'D.Thomas']"
   ]
  },
  {
   "cell_type": "code",
   "execution_count": null,
   "metadata": {},
   "outputs": [],
   "source": [
    "names_green  = ['', '', '', '', '', '', '',\n",
    "                '', '', '', '', '', \n",
    "                '', '', '', '', '',\n",
    "                '', '', '', '', '',\n",
    "                '', '', '', '', '',\n",
    "                'JuJu', 'A.Rodgers', 'M.Crabtree', 'E.Sanders', 'R.Woods']"
   ]
  },
  {
   "cell_type": "code",
   "execution_count": null,
   "metadata": {},
   "outputs": [],
   "source": [
    "names_melvin  = ['', '', '', '', '', '', '',\n",
    "                 '', '', '', '', '', \n",
    "                 '', '', '', '', '',\n",
    "                 '', '', '', '', '',\n",
    "                 '', '', '', '', '',\n",
    "                 '', '', '', '', '',\n",
    "                'JuJu', 'A.Rodgers', 'C.Hogan', 'M.Crabtree', 'R.Woods']"
   ]
  },
  {
   "cell_type": "code",
   "execution_count": null,
   "metadata": {},
   "outputs": [],
   "source": [
    "names_evans_cooks  = ['', '', '', '', '', '', '',\n",
    "                 '', '', '', '', '', \n",
    "                 '', '', '', '', '',\n",
    "                 '', '', '', '', '',\n",
    "                 '', '', '', '', '',\n",
    "                 '', '', '', '', '',\n",
    "                 '', '', '', '', '',\n",
    "                'C.Newton', 'R.Anderson', 'W.Fuller', 'D.Brees']"
   ]
  },
  {
   "cell_type": "code",
   "execution_count": null,
   "metadata": {},
   "outputs": [],
   "source": [
    "combined_3[(combined_3.p2 == 'Mike Evans') & (combined_3.p3 == 'Kenyan Drake')].p6.value_counts()[:5]"
   ]
  },
  {
   "cell_type": "code",
   "execution_count": null,
   "metadata": {},
   "outputs": [],
   "source": [
    "all_greens = [(56,144,161), (63,161,180), (76,173,192), (95,182,199), (114,191,206), (133,199,212), (152,208,219)]\n",
    "greens = ['', '', '', '', '', '', '',\n",
    "          (50,138,152), (76,173,192), (95,182,199), (133,199,212), (160,220,227)]\n",
    "\n",
    "all_yellows=[(255,188,13), (255,195,38), (255,202,64), (255,209,89), (255,216,115), (255,223,140), (255,230,166)]\n",
    "yellows=[(0,0,0), (255,188,13), (255,195,38), (255,202,64), (255,209,89), (255,216,115), (255,223,140)]\n",
    "\n",
    "all_reds = [(189,81,4), (213,92,5), (238,103,5), (250,116,19), (251,131,44), (251,145,69), (252,160,94)]\n",
    "reds=[(50,50,50), (180,71,3), (213,92,5), (250,116,19), (251,145,69), (252,160,94), (254,180,112)]"
   ]
  },
  {
   "cell_type": "code",
   "execution_count": null,
   "metadata": {},
   "outputs": [],
   "source": [
    "from pygraphviz import *\n",
    "\n",
    "A=AGraph()\n",
    "\n",
    "# set some default node attributes\n",
    "A.node_attr['style']='filled'\n",
    "A.node_attr['shape']='circle'\n",
    "A.node_attr['fixedsize']='true'\n",
    "A.node_attr['fontcolor']='#FFFFFF'\n",
    "\n",
    "for i in range(7):\n",
    "    A.add_edge(0,i)\n",
    "    n=A.get_node(i)\n",
    "    n.attr['fillcolor']='#%02x%02x%02x' % reds[i]\n",
    "    n.attr['width']= 1\n",
    "    n.attr['label'] = names[i]\n",
    "    \n",
    "# mike evans\n",
    "for i in range(7,12):\n",
    "    A.add_edge(1,i)\n",
    "    n=A.get_node(i)\n",
    "    n.attr['fillcolor']='#%02x%02x%02x' % greens[i]\n",
    "    n.attr['width']= 1\n",
    "    n.attr['label'] = names_evans[i]\n",
    "    \n",
    "# davante adams\n",
    "for i in range(12,17):\n",
    "    A.add_edge(2,i)\n",
    "    n=A.get_node(i)\n",
    "    n.attr['fillcolor']='#%02x%02x%02x' % greens[i-5]\n",
    "    n.attr['width']= 1\n",
    "    n.attr['label'] = names_adams[i]\n",
    "    \n",
    "# ty hilton\n",
    "for i in range(17,22):\n",
    "    A.add_edge(3,i)\n",
    "    n=A.get_node(i)\n",
    "    n.attr['fillcolor']='#%02x%02x%02x' % greens[i-10]\n",
    "    n.attr['width']= 1\n",
    "    n.attr['label'] = names_hilton[i]\n",
    "    \n",
    "# joe mixon\n",
    "for i in range(22,27):\n",
    "    A.add_edge(4,i)\n",
    "    n=A.get_node(i)\n",
    "    n.attr['fillcolor']='#%02x%02x%02x' % greens[i-15]\n",
    "    n.attr['width']= 1\n",
    "    n.attr['label'] = names_mixon[i]\n",
    "    \n",
    "# aj green\n",
    "for i in range(27,32):\n",
    "    A.add_edge(5,i)\n",
    "    n=A.get_node(i)\n",
    "    n.attr['fillcolor']='#%02x%02x%02x' % greens[i-20]\n",
    "    n.attr['width']= 1\n",
    "    n.attr['label'] = names_green[i]\n",
    "    \n",
    "# melvin gordon\n",
    "for i in range(32,37):\n",
    "    A.add_edge(6,i)\n",
    "    n=A.get_node(i)\n",
    "    n.attr['fillcolor']='#%02x%02x%02x' % greens[i-25]\n",
    "    n.attr['width']= 1\n",
    "    n.attr['label'] = names_melvin[i]\n",
    "    \n",
    "\n",
    "#print(A.string()) # print to screen\n",
    "A.draw('star.pdf',prog=\"circo\") # draw to png using circo"
   ]
  },
  {
   "cell_type": "code",
   "execution_count": null,
   "metadata": {},
   "outputs": [],
   "source": [
    "# evans - cooks\n",
    "for i in range(37,41):\n",
    "    A.add_edge(7,i)\n",
    "    n=A.get_node(i)\n",
    "    #n.attr['fillcolor']='#%02x%02x%02x' % greens[i-25]\n",
    "    n.attr['width']= 1\n",
    "    n.attr['label'] = names_evans_cooks[i]\n",
    "    \n",
    "# evans - cooks\n",
    "for i in range(41,45):\n",
    "    A.add_edge(8,i)\n",
    "    n=A.get_node(i)\n",
    "    #n.attr['fillcolor']='#%02x%02x%02x' % greens[i-25]\n",
    "    n.attr['width']= 1\n",
    "    n.attr['label'] = names_evans_cooks[i-4]"
   ]
  },
  {
   "cell_type": "code",
   "execution_count": null,
   "metadata": {},
   "outputs": [],
   "source": [
    "combined_3.p4.value_counts()[2:10]"
   ]
  },
  {
   "cell_type": "code",
   "execution_count": null,
   "metadata": {},
   "outputs": [],
   "source": []
  }
 ],
 "metadata": {
  "kernelspec": {
   "display_name": "Python 3",
   "language": "python",
   "name": "python3"
  },
  "language_info": {
   "codemirror_mode": {
    "name": "ipython",
    "version": 3
   },
   "file_extension": ".py",
   "mimetype": "text/x-python",
   "name": "python",
   "nbconvert_exporter": "python",
   "pygments_lexer": "ipython3",
   "version": "3.6.4"
  }
 },
 "nbformat": 4,
 "nbformat_minor": 2
}
