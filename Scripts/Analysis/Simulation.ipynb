{
 "cells": [
  {
   "cell_type": "markdown",
   "metadata": {},
   "source": [
    "# User Inputs"
   ]
  },
  {
   "cell_type": "code",
   "execution_count": null,
   "metadata": {},
   "outputs": [],
   "source": [
    "#==========\n",
    "# General Setting\n",
    "#==========\n",
    "\n",
    "# set core path\n",
    "path = '/Users/Mark/Documents/Github/Fantasy_Football/'\n",
    "\n",
    "# set name of database\n",
    "db_name = 'Simulation_Inputs.sqlite3'\n",
    "\n",
    "# set year\n",
    "year = 2018\n",
    "\n",
    "# position constraints, in order: QB, RB, WR, TE, FLEX\n",
    "pos_require = [1, 0, 1, 1, 4] \n",
    "\n",
    "# setting the salary cap\n",
    "salary_cap = 290\n",
    "\n",
    "# set inflation amount\n",
    "inflation = 1.15\n",
    "\n",
    "keepers = {}\n",
    "keepers['other'] = ['Todd Gurley', \"Le'Veon Bell\", 'Jerrick McKinnon', 'Kareem Hunt', 'David Johnson',\n",
    "                    'Russell Wilson', 'Michael Thomas']\n",
    "keepers['other_sal'] = [70, 80, 20, 50, 45, 11, 20]"
   ]
  },
  {
   "cell_type": "markdown",
   "metadata": {},
   "source": [
    "# Load Packages"
   ]
  },
  {
   "cell_type": "code",
   "execution_count": null,
   "metadata": {},
   "outputs": [],
   "source": [
    "# core packages\n",
    "import pandas as pd\n",
    "import numpy as np\n",
    "import os\n",
    "import sqlite3\n",
    "import random\n",
    "import time\n",
    "\n",
    "# linear optimization\n",
    "from cvxopt import matrix\n",
    "from cvxopt.glpk import ilp\n",
    "from scipy.stats import skewnorm\n",
    "\n",
    "# jupyter specifications\n",
    "pd.options.mode.chained_assignment = None\n",
    "from IPython.core.interactiveshell import InteractiveShell\n",
    "%matplotlib inline\n",
    "%config InlineBackend.figure_format = 'retina'\n",
    "\n",
    "# plotting functions\n",
    "import matplotlib.pyplot as plt\n",
    "import seaborn as sns"
   ]
  },
  {
   "cell_type": "code",
   "execution_count": null,
   "metadata": {},
   "outputs": [],
   "source": [
    "# change directory temporarily to helper scripts\n",
    "os.chdir(path + 'Scripts/Analysis/Helper_Scripts')\n",
    "\n",
    "# load custom plot functions\n",
    "from my_plot import PrettyPlot\n",
    "PrettyPlot(plt)\n",
    "\n",
    "# load custom helper functions\n",
    "from helper_functions import *;"
   ]
  },
  {
   "cell_type": "markdown",
   "metadata": {},
   "source": [
    "# Pull in Data"
   ]
  },
  {
   "cell_type": "code",
   "execution_count": null,
   "metadata": {},
   "outputs": [],
   "source": [
    "salary_data = pd.read_csv('/Users/Mark/Desktop/Jupyter Projects/Fantasy Football/Projections/salaries.csv')\n",
    "salary_data = salary_data.dropna(axis=1)"
   ]
  },
  {
   "cell_type": "code",
   "execution_count": null,
   "metadata": {},
   "outputs": [],
   "source": [
    "pts_dict = {}\n",
    "pts_dict['QB'] = [0.04, 5, 0.1, 7, -2, -1]\n",
    "pts_dict['RB'] = [0.1, 0.1, 0.5, 7]\n",
    "pts_dict['WR'] = [0.1, 0.5, 7]\n",
    "pts_dict['TE'] = [0.1, 0.5, 7]"
   ]
  },
  {
   "cell_type": "code",
   "execution_count": null,
   "metadata": {},
   "outputs": [],
   "source": [
    "class FF_Simulation():\n",
    "\n",
    "    def __init__(self, db_name, set_year, pts_dict, prior_repeats=5, show_plots=False):\n",
    "        '''\n",
    "        This initialization of this Class reads in all of the statistical projection data and\n",
    "        translates it into clusters and projection distributions given a particular scoring schema.\n",
    "        The data is then stored in the self.data object, which will be accessed through the analysis.\n",
    "        \n",
    "        Input: A database that contains statistical projections, a dictionary that contains the points\n",
    "               for each category, and number of prior repeats to use for Bayesian updating.\n",
    "        Return: Stores all the player projection distributions in that self.data object.\n",
    "        '''\n",
    "        # create empty dataframe to store all player distributions\n",
    "        self.data = pd.DataFrame()\n",
    "        \n",
    "        #==========\n",
    "        # Loop through each position and pull / analyze the data\n",
    "        #==========\n",
    "        \n",
    "        for pos in ['aQB', 'bRB', 'cWR', 'dTE']:\n",
    "                \n",
    "            # print current position update\n",
    "            print('Loading and Preparing ' + pos[1:] + ' Data')\n",
    "            \n",
    "            #--------\n",
    "            # Connect to Database and Pull Player Data\n",
    "            #--------\n",
    "            \n",
    "            conn = sqlite3.connect(path + 'Data/' + db_name)\n",
    "\n",
    "            df_train_results = pd.read_sql_query('SELECT * FROM ' + pos[1:] + '_Train_Results_' + str(set_year), con=conn)\n",
    "            df_test_results = pd.read_sql_query('SELECT * FROM ' + pos[1:] + '_Test_Results_' + str(set_year), con=conn)\n",
    "            df_train = pd.read_sql_query('SELECT * FROM ' + pos[1:] + '_Train_' + str(set_year), con=conn)\n",
    "            df_predict = pd.read_sql_query('SELECT * FROM ' + pos[1:] + '_Predict_' + str(set_year), con=conn)\n",
    "\n",
    "            #--------\n",
    "            # Calculate Fantasy Points for Given Scoring System and Cluster\n",
    "            #--------\n",
    "            df_train_results, df_test_results = format_results(df_train_results, df_test_results, \n",
    "                                                               df_train, df_predict, \n",
    "                                                               pts_dict[pos[1:]])\n",
    "\n",
    "            # initialize cluster with train and test results\n",
    "            cluster = Clustering(df_train_results, df_test_results)\n",
    "\n",
    "            # fit decision tree and apply nodes to players\n",
    "            cluster.fit_and_predict_tree(print_results=False)\n",
    "\n",
    "            # add linear regression of predicted vs actual for cluster predictions\n",
    "            c_train, c_test = cluster.add_fit_metrics()\n",
    "            \n",
    "            #--------\n",
    "            # Use Bayesian Updating to Create Points Distributions\n",
    "            #--------\n",
    "            \n",
    "            # create distributions of data\n",
    "            distributions = cluster.create_distributions(prior_repeats=prior_repeats, show_plots=show_plots)\n",
    "            \n",
    "            # add position to the distributions\n",
    "            distributions['pos'] = pos\n",
    "            \n",
    "            # append each position of data to master dataset\n",
    "            self.data = pd.concat([self.data, distributions], axis=0)\n",
    "            \n",
    "        # add flex data\n",
    "        flex = self.data[self.data.pos.isin(['bRB', 'cWR', 'dTE'])]\n",
    "        flex['pos'] = 'eFLEX'\n",
    "        self.data = pd.concat([self.data, flex])\n",
    "        \n",
    "        # format the self.data for later use\n",
    "        self.data = self.data.reset_index(drop=True)\n",
    "        self.data = self.data.rename(columns={0: 'player'})\n",
    "        \n",
    "    def return_data(self):\n",
    "        return self.data\n",
    "    \n",
    "    \n",
    "    def remove_keepers(self, keepers):\n",
    "        \n",
    "        \n",
    "\n",
    "\n",
    "    \n",
    "    def _skews(self):\n",
    "        '''\n",
    "        Input: Internal method that accepts the salaries input for each player in the dataset.\n",
    "        Return: Right skewed salary uncertainties, scaled to the actual salary of the player.\n",
    "        '''\n",
    "        # pull out the salary column and convert to numpy array\n",
    "        salaries = self.salaries.reshape(-1,1) / self.inflation\n",
    "\n",
    "        # create a skews normal distribution of uncertainty for salaries\n",
    "        skews = (skewnorm.rvs(10, size=10000)*.07).reshape(1, -1)\n",
    "\n",
    "        # create a p x m matrix with dot product, where p is the number of players\n",
    "        # and m is the number of skewed uncertainties, e.g. 320 players x 10000 skewed errors\n",
    "        self.skewed_salaries = np.dot(salaries, skews)\n",
    "\n",
    "        return self.skewed_salaries\n",
    "    \n",
    "    \n",
    "    def add_salaries(self, salaries, inflation=1.0):\n",
    "        '''\n",
    "        Input: Salaries for all players in the dataset, plus any salary inflation due to keepers.\n",
    "        Return: A (self) salaries numpy array that matches to the row index of the points dataframe.\n",
    "        '''\n",
    "        \n",
    "        self.inflation = inflation\n",
    "        \n",
    "        #--------\n",
    "        # Merge salaries and points on names to ensure matches\n",
    "        #--------\n",
    "        \n",
    "        # merge the salary and prediction data together on player\n",
    "        self.data = pd.merge(self.data, salaries, how='inner', left_on='player', right_on='player')\n",
    "        \n",
    "        # sort values and move player to the index of the dataframe\n",
    "        self.data = self.data.sort_values(by=['pos', 'salary'], ascending=[True, False]).set_index('player')\n",
    "\n",
    "        #--------\n",
    "        # Extract salaries into numpy array and drop salary from points data\n",
    "        #--------\n",
    "        \n",
    "        # set salaries to numpy array and multiply by inflation\n",
    "        self.salaries = self.data.salary.values*inflation\n",
    "        \n",
    "        # calculate salary skews for each player's salary\n",
    "        self.salary_skews = self._skews()\n",
    "        \n",
    "        # extract the number of counts for each position for later creating A matrix\n",
    "        self.pos_counts = list(self.data.pos.value_counts().sort_index())\n",
    "        \n",
    "        # drop salary from the points dataframe and reset the columns from 0 to N\n",
    "        self.data = self.data.drop(['pos', 'salary'], axis=1)\n",
    "        self.data.columns = [i for i in range(0, 10000)]\n",
    "    \n",
    "    \n",
    "    def _Amatrix(self, pos_require):\n",
    "        '''\n",
    "        This function creates the A matrix that is critical for the ILP solution being equal\n",
    "        to the positional constraints specified. I identified the given pattern empirically:\n",
    "        1. Repeat the vector [1, 0, 0, 0, ...] N times for each player for a given position.\n",
    "           The number of trailing zeros is equal to p-1 positions to draft.\n",
    "        2. After the above vector is repeated N times for a given player, append a 0 before\n",
    "           repeating the same pattern for the next player. Repeat for all players up until the \n",
    "           last position.\n",
    "        3. for the last poition, repeat the pattern N-1 times and append a 1 at the end.\n",
    "        This pattern allows the b vector, e.g. [1, 2, 2, 1] to set the constraints on the positions\n",
    "        selected by the ILP solution.\n",
    "        '''\n",
    "        #--------\n",
    "        # Initialize the Vector Pattern and Matrix\n",
    "        #--------\n",
    "        \n",
    "        # create A matrix\n",
    "        vec = [1]\n",
    "        vec.extend([0]*(len(pos_require)-1))\n",
    "        \n",
    "        # intialize A matrix by multiplying length one by vec and appending 0 to start pattern\n",
    "        A = self.pos_counts[0]*vec\n",
    "        A.append(0)\n",
    "\n",
    "        #--------\n",
    "        # Repeat the Pattern Until Last Position\n",
    "        #--------\n",
    "        # repeat the same pattern for the inner position requirements\n",
    "        for i in range(1, len(self.pos_counts)-1):\n",
    "\n",
    "            A.extend(self.pos_counts[i]*vec)\n",
    "            A.append(0)\n",
    "\n",
    "        #--------\n",
    "        # Finish the Pattern for the Last Position\n",
    "        #--------\n",
    "        \n",
    "        # adjust the pattern slightly for the final position requirement\n",
    "        A.extend((self.pos_counts[-1]-1)*vec)\n",
    "        A.append(1)\n",
    "\n",
    "        # convert A into a matrix for integer optimization\n",
    "        A = matrix(A, size=(len(vec), np.sum(self.pos_counts)), tc='d')\n",
    "\n",
    "        return A\n",
    "    \n",
    "    @staticmethod\n",
    "    def _df_shuffle(df):\n",
    "        '''\n",
    "        Input: A dataframe to be shuffled, row-by-row indepedently.\n",
    "        Return: The same dataframe whose columns have been shuffled for each row.\n",
    "        '''\n",
    "        # store the index before converting to numpy\n",
    "        idx = df.index\n",
    "        df = df.values\n",
    "\n",
    "        # shuffle each row separately, inplace, and convert o df\n",
    "        _ = [np.random.shuffle(i) for i in df]\n",
    "\n",
    "        return pd.DataFrame(df, index=idx)\n",
    "    \n",
    "    \n",
    "    @staticmethod\n",
    "    def _run_opt(A, points, salaries, salary_cap, pos_require):\n",
    "        '''\n",
    "        This function sets up and solves the integer Linear Programming problem \n",
    "        c = n x 1 -- c is the vector of points to be optimized\n",
    "        G = m x n -- G is the salaries of the corresponding players / points (m=1 in this case)\n",
    "        h = m x 1 -- h is the salary cap (m=1 in this case)\n",
    "        A = p x n -- A sparse binary matrix that must be developed so b equals player constraints\n",
    "        b = p x 1 -- b is a vector with player requirements, e.g. [QB, RB, WR] = [1, 2, 2]\n",
    "\n",
    "        Solve:\n",
    "        c'*n -- minimize\n",
    "\n",
    "        Subject to:\n",
    "        G*x <= h\n",
    "        A*x = b\n",
    "        '''\n",
    "        # generate the c matrix with the point values to be optimized\n",
    "        c = matrix(points, tc='d')\n",
    "\n",
    "        # generate the G matrix that contains the salary values for constraining\n",
    "        G = matrix(salaries, tc='d').T\n",
    "\n",
    "        # generate the h matrix with the salary cap constraint\n",
    "        h = matrix(salary_cap, size=(1,1), tc='d')\n",
    "\n",
    "        # generate the b matrix with the number of position constraints\n",
    "        b = matrix(pos_require, size=(len(pos_require), 1), tc='d')\n",
    "\n",
    "        # solve the integer LP problem\n",
    "        (status, x) = ilp(c, G, h, A=A, b=b, B=set(range(0, len(points))))\n",
    "\n",
    "        return x\n",
    "    \n",
    "    \n",
    "    def _random_select(self, data, salary_skews):\n",
    "    \n",
    "        # select random number between 0-10000\n",
    "        ran_num = random.randint(0, 9999)\n",
    "\n",
    "        # pull out a random column of points \n",
    "        points = data.iloc[:, ran_num].values.astype('double')*-1.0\n",
    "\n",
    "        # pull out a random skew and add to the original salaries\n",
    "        salaries_tmp = self.salaries + salary_skews[:, ran_num]\n",
    "        salaries_tmp = salaries_tmp.astype('double')\n",
    "        \n",
    "        return points, salaries_tmp\n",
    "    \n",
    "    \n",
    "    @staticmethod\n",
    "    def _pull_results(x, names, points, salaries, results, counts):\n",
    "    \n",
    "        # find all LP results chosen and equal to 1\n",
    "        x = np.array(x)[:, 0]==1\n",
    "\n",
    "        if len(names[x]) != len(np.unique(names[x])):\n",
    "            return results, counts\n",
    "\n",
    "        for i, p in enumerate(names[x]):\n",
    "\n",
    "            counts['names'][p] += 1\n",
    "\n",
    "            if counts['points'][p] == 0:\n",
    "                counts['points'][p] = []\n",
    "            counts['points'][p].append(points[x][i])\n",
    "\n",
    "            if counts['salary'][p] == 0:\n",
    "                counts['salary'][p] = []\n",
    "            counts['salary'][p].append(salaries[x][i])\n",
    "\n",
    "        # pull out the corresponding names, points, and salaries for chosen players\n",
    "        # to append to the higher level results dataframes\n",
    "        results['names'].append(list(names[x]))\n",
    "        results['points'].append(list(points[x]))\n",
    "        results['salary'].append(list(salaries[x]))\n",
    "\n",
    "        return results, counts\n",
    "    \n",
    "    \n",
    "    @staticmethod\n",
    "    def _format_results(results):\n",
    "    \n",
    "        name_results = pd.DataFrame(results['names'])\n",
    "        point_results = pd.DataFrame(results['points'])*-1\n",
    "        total_points = point_results.sum(axis=1)\n",
    "        salary_results = pd.DataFrame(results['salary'])\n",
    "        total_salary = salary_results.sum(axis=1)\n",
    "        results_df = pd.concat([name_results, total_points, total_salary, point_results, salary_results], axis=1)\n",
    "        results_df.columns = range(0, results_df.shape[1])\n",
    "        first_num_col = results_df.dtypes[results_df.dtypes=='float64'].index[0]\n",
    "        results_df = results_df.sort_values(by=first_num_col, ascending=False)\n",
    "\n",
    "        return results_df\n",
    "    \n",
    "    \n",
    "    def density_plot(self, player):\n",
    "        pts = np.array(self.counts['points'][player])*-1\n",
    "        sal = np.array(self.counts['salary'][player])\n",
    "        sns.jointplot(x=pts, y=sal, kind=\"kde\", ratio=4, size=5, space=0)\n",
    "        ax = plt.gca()\n",
    "        ax.get_yaxis().get_major_formatter().set_useOffset(False)    \n",
    "\n",
    "\n",
    "    def run_simulation(self, pos_require, salary_cap=300, iterations=500):        \n",
    "        \n",
    "        # \n",
    "        data = self.data\n",
    "        salary_skews = self.salary_skews\n",
    "        \n",
    "        # generate the A matrix for the simulation constraints\n",
    "        A = self._Amatrix(pos_require)\n",
    "\n",
    "        # pull out the names of all players and set to names\n",
    "        names = self.data.index\n",
    "\n",
    "        # create empty matrices\n",
    "        results = {}\n",
    "        results['names'] = []\n",
    "        results['points'] = []\n",
    "        results['salary'] = []\n",
    "\n",
    "        # create empty dictionaries\n",
    "        counts = {}\n",
    "        counts['names'] = pd.Series(0, index=names).to_dict()\n",
    "        counts['points'] = pd.Series([0], index=names).to_dict()\n",
    "        counts['salary'] = pd.Series([0], index=names).to_dict()\n",
    "        \n",
    "        # shuffle the random data--both salary skews and the point projections\n",
    "        _ = [np.random.shuffle(row) for row in self.salary_skews]\n",
    "        data = self._df_shuffle(data)\n",
    "                \n",
    "        for i in range(0, iterations):\n",
    "    \n",
    "            if i % 250 == 0:\n",
    "                _ = [np.random.shuffle(row) for row in salary_skews]\n",
    "                data = self._df_shuffle(data)\n",
    "\n",
    "            # pull out a random selection of points and salaries\n",
    "            points, salaries_tmp = self._random_select(data, salary_skews)\n",
    "        \n",
    "            # run linear integer optimization\n",
    "            x = self._run_opt(A, points, salaries_tmp, salary_cap, pos_require)\n",
    "\n",
    "            # pull out the actual names, points, and salaries\n",
    "            results, self.counts = self._pull_results(x, names, points, salaries_tmp, results, counts)\n",
    "        \n",
    "        self.results = self._format_results(results)\n",
    "        \n",
    "        return self.results, self.counts\n",
    "    \n",
    "    "
   ]
  },
  {
   "cell_type": "code",
   "execution_count": null,
   "metadata": {},
   "outputs": [],
   "source": [
    "test = FF_Simulation(db_name='Simulation_Inputs.sqlite3', set_year=2018, pts_dict=pts_dict)\n",
    "test.add_salaries(salary_data, inflation=1.15)"
   ]
  },
  {
   "cell_type": "code",
   "execution_count": null,
   "metadata": {},
   "outputs": [],
   "source": [
    "data= test.return_data()"
   ]
  },
  {
   "cell_type": "code",
   "execution_count": null,
   "metadata": {},
   "outputs": [],
   "source": [
    "keepers['other']"
   ]
  },
  {
   "cell_type": "code",
   "execution_count": null,
   "metadata": {},
   "outputs": [],
   "source": [
    "data.shape"
   ]
  },
  {
   "cell_type": "code",
   "execution_count": null,
   "metadata": {},
   "outputs": [],
   "source": [
    "data = data.drop(keepers['other'], axis=0)"
   ]
  },
  {
   "cell_type": "code",
   "execution_count": null,
   "metadata": {},
   "outputs": [],
   "source": [
    "results, counts = test.run_simulation(pos_require=[1, 0, 0, 1, 5], salary_cap=290, iterations=1000)"
   ]
  },
  {
   "cell_type": "code",
   "execution_count": null,
   "metadata": {},
   "outputs": [],
   "source": [
    "pd.DataFrame.from_dict(counts['names'], orient='index').sort_values(by=0, ascending=False).head(20)"
   ]
  },
  {
   "cell_type": "code",
   "execution_count": null,
   "metadata": {},
   "outputs": [],
   "source": [
    "results_df = format_results(results)\n",
    "results_df = results_df.sort_values(by=7, ascending=False).reset_index(drop=True)\n",
    "results_df.head(15)"
   ]
  },
  {
   "cell_type": "code",
   "execution_count": null,
   "metadata": {},
   "outputs": [],
   "source": [
    "density_plot(\"Lamar Miller\")"
   ]
  },
  {
   "cell_type": "markdown",
   "metadata": {},
   "source": [
    "# OLD"
   ]
  },
  {
   "cell_type": "code",
   "execution_count": null,
   "metadata": {},
   "outputs": [],
   "source": [
    "rb = rb.append(rookie_rb).reset_index(drop=True)"
   ]
  },
  {
   "cell_type": "code",
   "execution_count": null,
   "metadata": {},
   "outputs": [],
   "source": [
    "flex = rb.append(wr)\n",
    "flex = flex.reset_index(drop=True)"
   ]
  },
  {
   "cell_type": "code",
   "execution_count": null,
   "metadata": {},
   "outputs": [],
   "source": [
    "# set inflation\n",
    "qb['salary'] = qb.salary * 1.15\n",
    "rb['salary'] = rb.salary * 1.15\n",
    "wr['salary'] = wr.salary * 1.15\n",
    "te['salary'] = te.salary * 1.15\n",
    "flex['salary'] = flex.salary * 1.15"
   ]
  },
  {
   "cell_type": "code",
   "execution_count": null,
   "metadata": {},
   "outputs": [],
   "source": [
    "# remove keepers\n",
    "keepers = ['Christian McCaffrey',\n",
    "           'Michael Thomas',\n",
    "           'Josh Gordon',\n",
    "           'Larry Fitzgerald',\n",
    "           'Deshaun Watson',\n",
    "           'Travis Kelce',\n",
    "           'Russell Wilson',\n",
    "           'Todd Gurley',\n",
    "           'Devin Funchess',\n",
    "           'David Johnson',\n",
    "           'Alex Collins',\n",
    "           'Ezekiel Elliott',\n",
    "           'Kareem Hunt',\n",
    "           'Jerick McKinnon',\n",
    "           'Josh Gordon',\n",
    "           'Allen Robinson', \n",
    "           'Julian Edelman',\n",
    "           'Tyreek Hill',\n",
    "           'Marvin Jones']\n",
    "\n",
    "def drop_keepers(df, keepers):\n",
    "    for player in keepers:\n",
    "        idx = df[df.player == player].index\n",
    "        df = df.drop(idx, axis=0).reset_index(drop=True)\n",
    "    \n",
    "    return df\n",
    "\n",
    "rb = drop_keepers(rb, keepers)\n",
    "wr = drop_keepers(wr, keepers)\n",
    "flex = drop_keepers(flex, keepers)\n",
    "te = drop_keepers(te, keepers)\n",
    "qb = drop_keepers(qb, keepers)"
   ]
  },
  {
   "cell_type": "markdown",
   "metadata": {},
   "source": [
    "# Functions"
   ]
  },
  {
   "cell_type": "code",
   "execution_count": null,
   "metadata": {},
   "outputs": [],
   "source": [
    "\n",
    "def grab_player(df):\n",
    "    \n",
    "    rindex = random.randint(0, df.shape[0]-1)\n",
    "    rcol = random.randint(4, 1003)\n",
    "    \n",
    "    points = df.iloc[rindex, rcol] + df.iloc[rindex, 3]\n",
    "    money = df.iloc[rindex, 1] + df.iloc[rindex, 1]*(skewnorm.rvs(.5, size=1)*4/100)\n",
    "    name = df.iloc[rindex, 0]\n",
    "    \n",
    "    return(name, points, money[0])"
   ]
  },
  {
   "cell_type": "code",
   "execution_count": null,
   "metadata": {},
   "outputs": [],
   "source": [
    "def pull_specific_player(name):\n",
    "    \n",
    "    # specify keepers for team\n",
    "    alvin_idx = flex[flex.player == 'Alvin Kamara'].index\n",
    "    dalvin_idx = flex[flex.player == 'Dalvin Cook'].index\n",
    "\n",
    "    # create temporary flex dataframe that does not contain keepers\n",
    "    tmp_flex = flex.drop(alvin_idx, axis=0)\n",
    "    tmp_flex = tmp_flex.drop(dalvin_idx, axis=0).reset_index(drop=True)\n",
    "    \n",
    "    if name == None:\n",
    "        # set specific flex to tmp_flex if no specific player should be pulled\n",
    "        specific_flex = tmp_flex\n",
    "    else:\n",
    "        # set specific flex to the player named in function input\n",
    "        idx = tmp_flex[tmp_flex.player == name].index[0]\n",
    "        specific_flex = pd.DataFrame([tmp_flex.iloc[idx, :], tmp_flex.iloc[idx, :]]).reset_index(drop=True)\n",
    "        \n",
    "        # drop specific player from tmp_flex that other players are drawn from\n",
    "        tmp_flex = tmp_flex.drop(idx, axis=0).reset_index(drop=True)\n",
    "        \n",
    "    return tmp_flex, specific_flex"
   ]
  },
  {
   "cell_type": "code",
   "execution_count": null,
   "metadata": {},
   "outputs": [],
   "source": [
    "def sim_par(n):\n",
    "        \n",
    "    rcol = random.randint(4, 1002)\n",
    "    alvin_pts = rb.iloc[1, rcol] + rb.iloc[1, 3]\n",
    "    dalvin_pts = rb.iloc[44, rcol] + rb.iloc[44, 3]\n",
    "\n",
    "    if (n+1) % 500000 == 0:\n",
    "            print(str(datetime.datetime.now())[:-7])\n",
    "            print('Completed ' + str(n+1) + ' iterations')\n",
    "            \n",
    "    qb_name, qb_pts, qb_money = grab_player(qb)\n",
    "\n",
    "    rb1_name, rb1_pts, rb1_money = 'Alvin Kamara', alvin_pts, 20\n",
    "    rb2_name, rb2_pts, rb2_money = 'Dalvin Cook', dalvin_pts, 31\n",
    "    \n",
    "    wr1_name, wr1_pts, wr1_money = grab_player(tmp_flex)\n",
    "    wr2_name, wr2_pts, wr2_money = grab_player(tmp_flex)\n",
    "        \n",
    "    te_name, te_pts, te_money = grab_player(te)\n",
    "        \n",
    "    flex1_name, flex1_pts, flex1_money = grab_player(tmp_flex)            \n",
    "    flex2_name, flex2_pts, flex2_money = grab_player(specific_flex)\n",
    "    \n",
    "    salary = qb_money + rb1_money + rb2_money + wr1_money + wr2_money + te_money+ flex1_money + flex2_money\n",
    "    \n",
    "    y = qb_pts + rb1_pts + rb2_pts + wr1_pts + wr2_pts + te_pts + flex1_pts + flex2_pts - np.exp(.1*(salary-293))\n",
    "\n",
    "    if (salary > 310) | (salary < 250) | (y < 115):\n",
    "        return\n",
    "            \n",
    "    sort_money = pd.Series([qb_money, rb1_money, rb2_money, wr1_money, wr2_money, te_money, flex1_money, flex2_money],\n",
    "                                index = [qb_name, rb1_name, rb2_name, wr1_name, wr2_name, te_name, flex1_name, flex2_name]).sort_values(ascending=False)\n",
    "    \n",
    "    # 1. extend list w/ player names, 2. append total points, 3. append total salary, 4. extend salary values\n",
    "    results = list(sort_money.index)\n",
    "    results.append(y)\n",
    "    results.append(salary)\n",
    "    results.extend(sort_money.values)\n",
    "        \n",
    "    return results"
   ]
  },
  {
   "cell_type": "code",
   "execution_count": null,
   "metadata": {},
   "outputs": [],
   "source": [
    "from multiprocessing import Pool\n",
    "import time\n",
    "import random\n",
    "\n",
    "def run_sim_par(iterations):\n",
    "    \n",
    "    p = Pool(processes=4)\n",
    "\n",
    "    t1 = time.time()\n",
    "    \n",
    "    result = p.map(sim_par, range(iterations))\n",
    "    p.close()\n",
    "    p.join()\n",
    "    \n",
    "    df = pd.DataFrame([i for i in result if i is not None])\n",
    "    df.columns = ['p1', 'p2', 'p3', 'p4', 'p5', 'p6', 'p7', 'p8', 'ppg', 'total_salary',\n",
    "                  'm1', 'm2', 'm3', 'm4', 'm5', 'm6', 'm7', 'm8']\n",
    "    \n",
    "    print('Time Elapsed: ' + str(round(time.time()-t1,2)))\n",
    "\n",
    "    return df"
   ]
  },
  {
   "cell_type": "code",
   "execution_count": null,
   "metadata": {},
   "outputs": [],
   "source": [
    "def show_results(results, cols, added_cost=0):\n",
    "    \n",
    "    # plot histogram and number of results that made it\n",
    "    print('')\n",
    "    print('o Number of Results Above 115 PPG:', results.shape[0])\n",
    "    print('')\n",
    "    print('')                           \n",
    "    \n",
    "    for col in cols:\n",
    "        \n",
    "        counts = pd.DataFrame(results.loc[:,'p'+col].value_counts()[:15])\n",
    "        money = pd.DataFrame(results.groupby('p'+col)['m'+col].agg(np.mean).astype('int'))\n",
    "\n",
    "        combined = pd.merge(counts, money, how='inner', left_index=True, right_index=True)\n",
    "        combined.columns = ['Counts', 'Avg_Cost']  \n",
    "        combined['Remaining $'] = 300 - (combined.Avg_Cost + added_cost + 30 + 21).astype('int')\n",
    "        \n",
    "        print('o Most Common ' + '#' + col + ' Players')\n",
    "        print('------------------------')\n",
    "        display(combined)\n",
    "        print('')\n",
    "        print('')"
   ]
  },
  {
   "cell_type": "markdown",
   "metadata": {},
   "source": [
    "# Standard Simulation"
   ]
  },
  {
   "cell_type": "code",
   "execution_count": null,
   "metadata": {},
   "outputs": [],
   "source": [
    "tmp_flex, specific_flex = pull_specific_player(None)\n",
    "df = run_sim_par(3000000)"
   ]
  },
  {
   "cell_type": "code",
   "execution_count": null,
   "metadata": {},
   "outputs": [],
   "source": [
    "show_results(df, ['1', '2', '3', '4'], added_cost=0)"
   ]
  },
  {
   "cell_type": "markdown",
   "metadata": {},
   "source": [
    "## Le'Veon First Pick"
   ]
  },
  {
   "cell_type": "code",
   "execution_count": null,
   "metadata": {},
   "outputs": [],
   "source": [
    "tmp_flex, specific_flex = pull_specific_player(\"Le'Veon Bell\")\n",
    "lev = run_sim_par(3000000)"
   ]
  },
  {
   "cell_type": "code",
   "execution_count": null,
   "metadata": {},
   "outputs": [],
   "source": [
    "show_results(lev, ['2', '3', '4'], added_cost=115)"
   ]
  },
  {
   "cell_type": "markdown",
   "metadata": {},
   "source": [
    "## Le'Veon First Pick + Require WR"
   ]
  },
  {
   "cell_type": "code",
   "execution_count": null,
   "metadata": {},
   "outputs": [],
   "source": [
    "tmp_flex, specific_flex = pull_specific_player(\"Le'Veon Bell\")\n",
    "lev_wr = run_sim_par(3000000)"
   ]
  },
  {
   "cell_type": "code",
   "execution_count": null,
   "metadata": {
    "scrolled": false
   },
   "outputs": [],
   "source": [
    "show_results(combined_lev, ['2', '3', '4', '5'], added_cost = 115)"
   ]
  },
  {
   "cell_type": "markdown",
   "metadata": {},
   "source": [
    "## AB First Pick"
   ]
  },
  {
   "cell_type": "code",
   "execution_count": null,
   "metadata": {},
   "outputs": [],
   "source": [
    "tmp_flex, specific_flex = pull_specific_player('Antonio Brown')\n",
    "combined_ab = run_sim_par(3000000)"
   ]
  },
  {
   "cell_type": "code",
   "execution_count": null,
   "metadata": {},
   "outputs": [],
   "source": [
    "show_results(combined_ab, ['1', '2', '3', '4'], added_cost = 108)"
   ]
  },
  {
   "cell_type": "markdown",
   "metadata": {},
   "source": [
    "## DeAndre First Pick"
   ]
  },
  {
   "cell_type": "code",
   "execution_count": null,
   "metadata": {},
   "outputs": [],
   "source": [
    "tmp_flex, specific_flex = pull_specific_player('DeAndre Hopkins')\n",
    "combined_deandre = run_sim_par(3000000)"
   ]
  },
  {
   "cell_type": "code",
   "execution_count": null,
   "metadata": {},
   "outputs": [],
   "source": [
    "show_results(combined_deandre, ['1', '2', '3', '4'], added_cost = 100)"
   ]
  },
  {
   "cell_type": "markdown",
   "metadata": {},
   "source": [
    "## Odell First Pick"
   ]
  },
  {
   "cell_type": "code",
   "execution_count": null,
   "metadata": {},
   "outputs": [],
   "source": [
    "tmp_flex, specific_flex = pull_specific_player('Odell Beckham')\n",
    "combined_obj = run_sim_par(3000000)"
   ]
  },
  {
   "cell_type": "code",
   "execution_count": null,
   "metadata": {},
   "outputs": [],
   "source": [
    "show_results(combined_obj, ['1', '2', '3', '4'], added_cost=97)"
   ]
  },
  {
   "cell_type": "markdown",
   "metadata": {},
   "source": [
    "# Late Round Dudes"
   ]
  },
  {
   "cell_type": "code",
   "execution_count": null,
   "metadata": {},
   "outputs": [],
   "source": []
  },
  {
   "cell_type": "code",
   "execution_count": null,
   "metadata": {},
   "outputs": [],
   "source": []
  },
  {
   "cell_type": "code",
   "execution_count": null,
   "metadata": {},
   "outputs": [],
   "source": []
  },
  {
   "cell_type": "markdown",
   "metadata": {},
   "source": [
    "# Create Visualizations"
   ]
  },
  {
   "cell_type": "code",
   "execution_count": null,
   "metadata": {},
   "outputs": [],
   "source": [
    "names = [\"L.Bell\", 'M.Evans', 'D.Adams', 'TY.Hilton', 'J.Mixon', 'AJ.Green', 'M.Gordon']"
   ]
  },
  {
   "cell_type": "code",
   "execution_count": null,
   "metadata": {},
   "outputs": [],
   "source": [
    "names_evans = ['', '', '', '', '', '', '',\n",
    "               'B.Cooks', 'A.Cooper', 'D.Baldwin', 'K.Drake', 'J.Landry']"
   ]
  },
  {
   "cell_type": "code",
   "execution_count": null,
   "metadata": {},
   "outputs": [],
   "source": [
    "names_adams = ['', '', '', '', '', '', '', \n",
    "               '', '', '', '', '', \n",
    "               'B.Cooks', 'J.Landry', 'A.Cooper', 'K.Drake', 'D.Henry']"
   ]
  },
  {
   "cell_type": "code",
   "execution_count": null,
   "metadata": {},
   "outputs": [],
   "source": [
    "names_hilton = ['', '', '', '', '', '', '',\n",
    "                '', '', '', '', '', \n",
    "                '', '', '', '', '', \n",
    "                'B.Cooks', 'J.Landry', 'D.Baldwin', 'G.Tate', 'A.Cooper']"
   ]
  },
  {
   "cell_type": "code",
   "execution_count": null,
   "metadata": {},
   "outputs": [],
   "source": [
    "names_mixon  = ['', '', '', '', '', '', '',\n",
    "                '', '', '', '', '', \n",
    "                '', '', '', '', '',\n",
    "                '', '', '', '', '',\n",
    "                'B.Cooks', 'J.Landry', 'D.Baldwin', 'A.Cooper', 'D.Thomas']"
   ]
  },
  {
   "cell_type": "code",
   "execution_count": null,
   "metadata": {},
   "outputs": [],
   "source": [
    "names_green  = ['', '', '', '', '', '', '',\n",
    "                '', '', '', '', '', \n",
    "                '', '', '', '', '',\n",
    "                '', '', '', '', '',\n",
    "                '', '', '', '', '',\n",
    "                'JuJu', 'A.Rodgers', 'M.Crabtree', 'E.Sanders', 'R.Woods']"
   ]
  },
  {
   "cell_type": "code",
   "execution_count": null,
   "metadata": {},
   "outputs": [],
   "source": [
    "names_melvin  = ['', '', '', '', '', '', '',\n",
    "                 '', '', '', '', '', \n",
    "                 '', '', '', '', '',\n",
    "                 '', '', '', '', '',\n",
    "                 '', '', '', '', '',\n",
    "                 '', '', '', '', '',\n",
    "                'JuJu', 'A.Rodgers', 'C.Hogan', 'M.Crabtree', 'R.Woods']"
   ]
  },
  {
   "cell_type": "code",
   "execution_count": null,
   "metadata": {},
   "outputs": [],
   "source": [
    "names_evans_cooks  = ['', '', '', '', '', '', '',\n",
    "                 '', '', '', '', '', \n",
    "                 '', '', '', '', '',\n",
    "                 '', '', '', '', '',\n",
    "                 '', '', '', '', '',\n",
    "                 '', '', '', '', '',\n",
    "                 '', '', '', '', '',\n",
    "                'C.Newton', 'R.Anderson', 'W.Fuller', 'D.Brees']"
   ]
  },
  {
   "cell_type": "code",
   "execution_count": null,
   "metadata": {},
   "outputs": [],
   "source": [
    "combined_3[(combined_3.p2 == 'Mike Evans') & (combined_3.p3 == 'Kenyan Drake')].p6.value_counts()[:5]"
   ]
  },
  {
   "cell_type": "code",
   "execution_count": null,
   "metadata": {},
   "outputs": [],
   "source": [
    "all_greens = [(56,144,161), (63,161,180), (76,173,192), (95,182,199), (114,191,206), (133,199,212), (152,208,219)]\n",
    "greens = ['', '', '', '', '', '', '',\n",
    "          (50,138,152), (76,173,192), (95,182,199), (133,199,212), (160,220,227)]\n",
    "\n",
    "all_yellows=[(255,188,13), (255,195,38), (255,202,64), (255,209,89), (255,216,115), (255,223,140), (255,230,166)]\n",
    "yellows=[(0,0,0), (255,188,13), (255,195,38), (255,202,64), (255,209,89), (255,216,115), (255,223,140)]\n",
    "\n",
    "all_reds = [(189,81,4), (213,92,5), (238,103,5), (250,116,19), (251,131,44), (251,145,69), (252,160,94)]\n",
    "reds=[(50,50,50), (180,71,3), (213,92,5), (250,116,19), (251,145,69), (252,160,94), (254,180,112)]"
   ]
  },
  {
   "cell_type": "code",
   "execution_count": null,
   "metadata": {},
   "outputs": [],
   "source": [
    "from pygraphviz import *\n",
    "\n",
    "A=AGraph()\n",
    "\n",
    "# set some default node attributes\n",
    "A.node_attr['style']='filled'\n",
    "A.node_attr['shape']='circle'\n",
    "A.node_attr['fixedsize']='true'\n",
    "A.node_attr['fontcolor']='#FFFFFF'\n",
    "\n",
    "for i in range(7):\n",
    "    A.add_edge(0,i)\n",
    "    n=A.get_node(i)\n",
    "    n.attr['fillcolor']='#%02x%02x%02x' % reds[i]\n",
    "    n.attr['width']= 1\n",
    "    n.attr['label'] = names[i]\n",
    "    \n",
    "# mike evans\n",
    "for i in range(7,12):\n",
    "    A.add_edge(1,i)\n",
    "    n=A.get_node(i)\n",
    "    n.attr['fillcolor']='#%02x%02x%02x' % greens[i]\n",
    "    n.attr['width']= 1\n",
    "    n.attr['label'] = names_evans[i]\n",
    "    \n",
    "# davante adams\n",
    "for i in range(12,17):\n",
    "    A.add_edge(2,i)\n",
    "    n=A.get_node(i)\n",
    "    n.attr['fillcolor']='#%02x%02x%02x' % greens[i-5]\n",
    "    n.attr['width']= 1\n",
    "    n.attr['label'] = names_adams[i]\n",
    "    \n",
    "# ty hilton\n",
    "for i in range(17,22):\n",
    "    A.add_edge(3,i)\n",
    "    n=A.get_node(i)\n",
    "    n.attr['fillcolor']='#%02x%02x%02x' % greens[i-10]\n",
    "    n.attr['width']= 1\n",
    "    n.attr['label'] = names_hilton[i]\n",
    "    \n",
    "# joe mixon\n",
    "for i in range(22,27):\n",
    "    A.add_edge(4,i)\n",
    "    n=A.get_node(i)\n",
    "    n.attr['fillcolor']='#%02x%02x%02x' % greens[i-15]\n",
    "    n.attr['width']= 1\n",
    "    n.attr['label'] = names_mixon[i]\n",
    "    \n",
    "# aj green\n",
    "for i in range(27,32):\n",
    "    A.add_edge(5,i)\n",
    "    n=A.get_node(i)\n",
    "    n.attr['fillcolor']='#%02x%02x%02x' % greens[i-20]\n",
    "    n.attr['width']= 1\n",
    "    n.attr['label'] = names_green[i]\n",
    "    \n",
    "# melvin gordon\n",
    "for i in range(32,37):\n",
    "    A.add_edge(6,i)\n",
    "    n=A.get_node(i)\n",
    "    n.attr['fillcolor']='#%02x%02x%02x' % greens[i-25]\n",
    "    n.attr['width']= 1\n",
    "    n.attr['label'] = names_melvin[i]\n",
    "    \n",
    "\n",
    "#print(A.string()) # print to screen\n",
    "A.draw('star.pdf',prog=\"circo\") # draw to png using circo"
   ]
  },
  {
   "cell_type": "code",
   "execution_count": null,
   "metadata": {},
   "outputs": [],
   "source": [
    "# evans - cooks\n",
    "for i in range(37,41):\n",
    "    A.add_edge(7,i)\n",
    "    n=A.get_node(i)\n",
    "    #n.attr['fillcolor']='#%02x%02x%02x' % greens[i-25]\n",
    "    n.attr['width']= 1\n",
    "    n.attr['label'] = names_evans_cooks[i]\n",
    "    \n",
    "# evans - cooks\n",
    "for i in range(41,45):\n",
    "    A.add_edge(8,i)\n",
    "    n=A.get_node(i)\n",
    "    #n.attr['fillcolor']='#%02x%02x%02x' % greens[i-25]\n",
    "    n.attr['width']= 1\n",
    "    n.attr['label'] = names_evans_cooks[i-4]"
   ]
  },
  {
   "cell_type": "code",
   "execution_count": null,
   "metadata": {},
   "outputs": [],
   "source": [
    "combined_3.p4.value_counts()[2:10]"
   ]
  },
  {
   "cell_type": "code",
   "execution_count": null,
   "metadata": {},
   "outputs": [],
   "source": []
  }
 ],
 "metadata": {
  "kernelspec": {
   "display_name": "Python 3",
   "language": "python",
   "name": "python3"
  },
  "language_info": {
   "codemirror_mode": {
    "name": "ipython",
    "version": 3
   },
   "file_extension": ".py",
   "mimetype": "text/x-python",
   "name": "python",
   "nbconvert_exporter": "python",
   "pygments_lexer": "ipython3",
   "version": "3.6.4"
  }
 },
 "nbformat": 4,
 "nbformat_minor": 2
}
