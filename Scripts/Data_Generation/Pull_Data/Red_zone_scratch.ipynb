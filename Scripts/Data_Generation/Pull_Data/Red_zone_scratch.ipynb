{
 "cells": [
  {
   "cell_type": "code",
   "execution_count": 1,
   "metadata": {},
   "outputs": [],
   "source": [
    "import pandas as pd\n",
    "import os\n",
    "import sqlite3\n",
    "from data_functions import *\n",
    "pd.options.mode.chained_assignment = None\n",
    "import numpy as np"
   ]
  },
  {
   "cell_type": "code",
   "execution_count": 11,
   "metadata": {},
   "outputs": [],
   "source": [
    "url_rec = 'https://www.pro-football-reference.com/years/2018/redzone-receiving.htm'\n",
    "data_rz_rec = pd.read_html(url_rec)\n",
    "\n",
    "url_rush = 'https://www.pro-football-reference.com/years/2018/redzone-rushing.htm'\n",
    "data_rz_rush = pd.read_html(url_rush)"
   ]
  },
  {
   "cell_type": "code",
   "execution_count": 14,
   "metadata": {},
   "outputs": [],
   "source": [
    "rz_rec = data_rz_rec[0].T.reset_index(drop=True).T.iloc[:, :-1]\n",
    "rz_rush = data_rz_rush[0].T.reset_index(drop=True).T.iloc[:, :-1]\n",
    "\n",
    "col_names_rec = {\n",
    "    0: 'player', \n",
    "    1: 'team',\n",
    "    2: 'rz_20_tgt',\n",
    "    3: 'rz_20_receptions',\n",
    "    4: 'rz_20_catch_pct',\n",
    "    5: 'rz_20_rec_yds',\n",
    "    6: 'rz_20_rec_tds',\n",
    "    7: 'rz_20_tgt_pct',\n",
    "    8: 'rz_10_tgt',\n",
    "    9: 'rz_10_receptions',\n",
    "    10: 'rz_10_catch_pct',\n",
    "    11: 'rz_10_rec_yds',\n",
    "    12: 'rz_10_rec_tds',\n",
    "    13: 'rz_10_tgt_pct'\n",
    "}\n",
    "\n",
    "col_names_rush = {\n",
    "    0: 'player', \n",
    "    1: 'team',\n",
    "    2: 'rz_20_rush_att',\n",
    "    3: 'rz_20_rush_yds',\n",
    "    4: 'rz_20_rush_td',\n",
    "    5: 'rz_20_rush_pct',\n",
    "    6: 'rz_10_rush_att',\n",
    "    7: 'rz_10_rush_yds',\n",
    "    8: 'rz_10_rush_td',\n",
    "    9: 'rz_10_rush_pct',\n",
    "    10: 'rz_5_rush_att',\n",
    "    11: 'rz_5_rush_yds',\n",
    "    12: 'rz_5_rush_td',\n",
    "    13: 'rz_5_rush_pct'\n",
    "}\n",
    "\n",
    "rz_rec = rz_rec.rename(columns=col_names_rec)\n",
    "rz_rush = rz_rush.rename(columns=col_names_rush)\n",
    "\n",
    "for col in ['rz_20_catch_pct', 'rz_20_tgt_pct', 'rz_10_catch_pct', 'rz_10_tgt_pct']:\n",
    "    rz_rec[col] = rz_rec[col].apply(name_clean)\n",
    "    \n",
    "for col in ['rz_20_rush_pct', 'rz_10_rush_pct', 'rz_5_rush_pct']:\n",
    "    rz_rush[col] = rz_rush[col].apply(name_clean)\n",
    "    \n",
    "for col in rz_rec.columns:\n",
    "    try:\n",
    "        rz_rec[col] = rz_rec[col].astype('float')\n",
    "        rz_rush[col] = rz_rush[col].astype('float')\n",
    "    except:\n",
    "        pass"
   ]
  },
  {
   "cell_type": "code",
   "execution_count": null,
   "metadata": {},
   "outputs": [],
   "source": []
  }
 ],
 "metadata": {
  "kernelspec": {
   "display_name": "Python 3",
   "language": "python",
   "name": "python3"
  },
  "language_info": {
   "codemirror_mode": {
    "name": "ipython",
    "version": 3
   },
   "file_extension": ".py",
   "mimetype": "text/x-python",
   "name": "python",
   "nbconvert_exporter": "python",
   "pygments_lexer": "ipython3",
   "version": "3.6.4"
  }
 },
 "nbformat": 4,
 "nbformat_minor": 2
}
