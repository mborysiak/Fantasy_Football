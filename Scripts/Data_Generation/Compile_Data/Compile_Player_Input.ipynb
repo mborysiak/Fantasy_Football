{
 "cells": [
  {
   "cell_type": "code",
   "execution_count": null,
   "metadata": {},
   "outputs": [],
   "source": [
    "import sqlite3\n",
    "import os\n",
    "import pandas as pd\n",
    "import numpy as np\n",
    "from data_functions import *"
   ]
  },
  {
   "cell_type": "markdown",
   "metadata": {},
   "source": [
    "# Compile RB"
   ]
  },
  {
   "cell_type": "code",
   "execution_count": null,
   "metadata": {},
   "outputs": [],
   "source": [
    "#==========\n",
    "# Load team-based statistics\n",
    "#==========\n",
    "\n",
    "'''\n",
    "Pull in the oline, quarterback, and overall team offense statistics, and join them \n",
    "to the player data. This will provide team-based context for the players, as well as\n",
    "allow for grouped statistics generation.\n",
    "'''\n",
    "\n",
    "# load prepared data\n",
    "conn = sqlite3.connect('/Users/Mark/Documents/Github/Fantasy_Football/Data/Season_Stats.sqlite3')\n",
    "query = ''' \n",
    "    SELECT * \n",
    "    FROM RB_Stats A \n",
    "    INNER JOIN OLine_Stats B ON A.team = B.team AND A.year = B.year\n",
    "    INNER JOIN Team_Efficiency C ON A.team = C.team AND A.year = C.year\n",
    "    INNER JOIN Team_Offensive_Stats D ON A.team = D.team AND A.year = D.year\n",
    "    INNER JOIN QB_PosPred E ON A.team = E.team AND A.year = E.year'''\n",
    "\n",
    "df = pd.read_sql_query(query, con=conn)\n",
    "\n",
    "# remove duplicated columns\n",
    "df = df.loc[:, ~df.columns.duplicated()]\n",
    "\n",
    "# ensure everything is numeric\n",
    "for col in df.columns:\n",
    "    try:\n",
    "        df[col] = df[col].astype('float')\n",
    "    except:\n",
    "        pass"
   ]
  },
  {
   "cell_type": "code",
   "execution_count": null,
   "metadata": {},
   "outputs": [],
   "source": [
    "#==========\n",
    "# Creating team based grouped statistics\n",
    "#==========\n",
    "\n",
    "'''\n",
    "Create grouped statistics based on the team and teammates. For example,\n",
    "create total touches by team feature, as well as how the average, min, and max\n",
    "teammate adps compare to the current player.\n",
    "'''\n",
    "\n",
    "# groupby team and year to get total rb touches for each team\n",
    "team_touches = df.groupby(['team', 'year'], group_keys=False)['rush_att'].agg(np.sum).reset_index().rename(columns={'rush_att': 'rb_att_on_team'})\n",
    "df = pd.merge(df, team_touches, how='left', left_on=['team', 'year'], right_on=['team', 'year'])\n",
    "df['available_rush_att'] = 1-(df['rb_att_on_team'] / df['tm_rush_att'])\n",
    "df['available_rush_att_2'] = 1-((df['rb_att_on_team'] - df['att']) / df['tm_rush_att'])\n",
    "\n",
    "team_tgts = df.groupby(['team', 'year'], group_keys=False)['tgt'].agg(np.sum).reset_index().rename(columns={'tgt': 'tgt_on_team'})\n",
    "df = pd.merge(df, team_tgts, how='left', left_on=['team', 'year'], right_on=['team', 'year'])\n",
    "df['available_tgt'] = 1-(df['tgt_on_team'] / df['tm_pass_att'])\n",
    "df['available_tgt_2'] = 1-((df['tgt_on_team'] - df['tgt']) / df['tm_pass_att'])\n",
    "\n",
    "# create market share statistics\n",
    "df['ms_rush_att'] = df['att'] / df['tm_rush_att']\n",
    "df['ms_rush_yd'] = df['rush_yds'] / df['tm_rush_yds']\n",
    "df['ms_rush_td'] = df['rush_td'] / df['tm_rush_td']\n",
    "df['ms_rec_yd'] = df['rec_yds'] / df['tm_pass_yds']\n",
    "df['ms_tgts'] = df['tgt'] / df['tm_pass_att']\n",
    "\n",
    "df['ms_rush_yd_per_att'] = df['ms_rush_yd'] / df['ms_rush_att']\n",
    "\n",
    "df['avail_x_newteam'] = df['available_rush_att'] * df['new_team']\n",
    "\n",
    "# create teammate ADP metrics to see if top ranked player\n",
    "min_teammate = df.groupby(['team', 'year'], group_keys=False)['avg_pick'].agg(np.min).reset_index().rename(columns={'avg_pick': 'min_teammate'})\n",
    "max_teammate = df.groupby(['team', 'year'], group_keys=False)['avg_pick'].agg(np.max).reset_index().rename(columns={'avg_pick': 'max_teammate'})\n",
    "avg_teammate = df.groupby(['team', 'year'], group_keys=False)['avg_pick'].agg(np.mean).reset_index().rename(columns={'avg_pick': 'avg_teammate'})\n",
    "\n",
    "names = ['min_teammate', 'max_teammate', 'avg_teammate']\n",
    "for i, file in enumerate([min_teammate, max_teammate, avg_teammate]):\n",
    "    \n",
    "    df = pd.merge(df, file, how='inner', left_on=['team', 'year'], right_on=['team', 'year'])\n",
    "    df['teammate_diff'] = df[names[i]] - df['min_teammate'] "
   ]
  },
  {
   "cell_type": "code",
   "execution_count": null,
   "metadata": {},
   "outputs": [],
   "source": [
    "append_to_db(df, db_name='Model_Inputs.sqlite3', table_name='RB_2018', if_exist='replace')"
   ]
  },
  {
   "cell_type": "markdown",
   "metadata": {},
   "source": [
    "# Compile WR"
   ]
  },
  {
   "cell_type": "code",
   "execution_count": null,
   "metadata": {},
   "outputs": [],
   "source": [
    "#==========\n",
    "# Load team-based statistics\n",
    "#==========\n",
    "\n",
    "'''\n",
    "Pull in the oline, quarterback, and overall team offense statistics, and join them \n",
    "to the player data. This will provide team-based context for the players, as well as\n",
    "allow for grouped statistics generation.\n",
    "'''\n",
    "\n",
    "# load prepared data\n",
    "conn = sqlite3.connect('/Users/Mark/Documents/Github/Fantasy_Football/Data/Season_Stats.sqlite3')\n",
    "query = ''' \n",
    "    SELECT * \n",
    "    FROM WR_Stats A \n",
    "    INNER JOIN OLine_Stats B ON A.team = B.team AND A.year = B.year\n",
    "    INNER JOIN Team_Efficiency C ON A.team = C.team AND A.year = C.year\n",
    "    INNER JOIN Team_Offensive_Stats D ON A.team = D.team AND A.year = D.year\n",
    "    INNER JOIN QB_PosPred E ON A.team = E.team AND A.year = E.year'''\n",
    "\n",
    "df = pd.read_sql_query(query, con=conn)\n",
    "\n",
    "# remove duplicated columns\n",
    "df = df.loc[:, ~df.columns.duplicated()]\n",
    "\n",
    "# ensure everything is numeric\n",
    "for col in df.columns:\n",
    "    try:\n",
    "        df[col] = df[col].astype('float')\n",
    "    except:\n",
    "        pass"
   ]
  },
  {
   "cell_type": "code",
   "execution_count": null,
   "metadata": {},
   "outputs": [],
   "source": [
    "#==========\n",
    "# Creating team based grouped statistics\n",
    "#==========\n",
    "\n",
    "'''\n",
    "Create grouped statistics based on the team and teammates. For example,\n",
    "create total touches by team feature, as well as how the average, min, and max\n",
    "teammate adps compare to the current player.\n",
    "'''\n",
    "\n",
    "# groupby team and year to get total wr yard and targets for each team\n",
    "team_tgts = df.groupby(['team', 'year'], group_keys=False)['tgt'].agg(np.sum).reset_index().rename(columns={'tgt': 'tgt_on_team'})\n",
    "df = pd.merge(df, team_tgts, how='inner', left_on=['team', 'year'], right_on=['team', 'year'])\n",
    "df['available_tgt'] = 1-(df['tgt_on_team'] / df['tm_pass_att'])\n",
    "df['available_tgt_2'] = 1-((df['tgt_on_team'] - df['tgt']) / df['tm_pass_att'])\n",
    "\n",
    "team_yds = df.groupby(['team', 'year'], group_keys=False)['rec_yds'].agg(np.sum).reset_index().rename(columns={'rec_yds': 'yds_on_team'})\n",
    "df = pd.merge(df, team_yds, how='inner', left_on=['team', 'year'], right_on=['team', 'year'])\n",
    "df['available_yds'] = 1-(df['yds_on_team'] / df['tm_pass_yds'])\n",
    "df['available_yds_2'] = 1-((df['yds_on_team']-df['rec_yds']) / df['tm_pass_yds'])\n",
    "\n",
    "# create marketshare statistics\n",
    "df['ms_rec_yd'] = df['rec_yds'] / df['tm_pass_yds']\n",
    "df['ms_tgts'] = df['tgt'] / df['tm_pass_att']\n",
    "df['ms_yds_per_tgts'] = df['ms_rec_yd'] / df['ms_tgts']\n",
    "\n",
    "df['avail_tgt_x_newteam'] = df['available_tgt'] * df['new_team']\n",
    "df['avail_yds_x_newteam'] = df['available_yds'] * df['new_team']\n",
    "\n",
    "# create teammate ADP metrics to see if top ranked player\n",
    "min_teammate = df.groupby(['team', 'year'], group_keys=False)['avg_pick'].agg(np.min).reset_index().rename(columns={'avg_pick': 'min_teammate'})\n",
    "max_teammate = df.groupby(['team', 'year'], group_keys=False)['avg_pick'].agg(np.max).reset_index().rename(columns={'avg_pick': 'max_teammate'})\n",
    "avg_teammate = df.groupby(['team', 'year'], group_keys=False)['avg_pick'].agg(np.mean).reset_index().rename(columns={'avg_pick': 'avg_teammate'})\n",
    "\n",
    "names = ['min_teammate', 'max_teammate', 'avg_teammate']\n",
    "for i, file in enumerate([min_teammate, max_teammate, avg_teammate]):\n",
    "    \n",
    "    df = pd.merge(df, file, how='inner', left_on=['team', 'year'], right_on=['team', 'year'])\n",
    "    df['teammate_diff'] = df[names[i]] - df['min_teammate'] "
   ]
  },
  {
   "cell_type": "code",
   "execution_count": null,
   "metadata": {},
   "outputs": [],
   "source": [
    "append_to_db(df, db_name='Model_Inputs.sqlite3', table_name='WR_2018', if_exist='replace')"
   ]
  },
  {
   "cell_type": "code",
   "execution_count": null,
   "metadata": {},
   "outputs": [],
   "source": []
  }
 ],
 "metadata": {
  "kernelspec": {
   "display_name": "Python 3",
   "language": "python",
   "name": "python3"
  },
  "language_info": {
   "codemirror_mode": {
    "name": "ipython",
    "version": 3
   },
   "file_extension": ".py",
   "mimetype": "text/x-python",
   "name": "python",
   "nbconvert_exporter": "python",
   "pygments_lexer": "ipython3",
   "version": "3.6.4"
  }
 },
 "nbformat": 4,
 "nbformat_minor": 2
}
